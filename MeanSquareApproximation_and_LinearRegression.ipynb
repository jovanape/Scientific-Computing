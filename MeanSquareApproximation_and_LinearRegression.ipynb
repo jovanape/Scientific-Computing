{
 "cells": [
  {
   "cell_type": "markdown",
   "id": "0834057e",
   "metadata": {},
   "source": [
    "# Mean-square approximation"
   ]
  },
  {
   "cell_type": "code",
   "execution_count": 3,
   "id": "b5fabe11",
   "metadata": {},
   "outputs": [],
   "source": [
    "import numpy as np\n",
    "import pandas as pd\n",
    "from numpy import linalg as LA\n",
    "from matplotlib import pyplot as plt"
   ]
  },
  {
   "cell_type": "markdown",
   "id": "264a8c56",
   "metadata": {},
   "source": [
    "$A$ - square matrix $[n x n]$ with **inverse** $A^{-1}$\n",
    "\n",
    "$A$ - rectangular matrix $[m, n]$, $m > n$ with **pseudoinverse** $(A^T A)^{-1} A^T$"
   ]
  },
  {
   "cell_type": "markdown",
   "id": "59f740d0",
   "metadata": {},
   "source": [
    "Solution of a given system $Ax = y$ is\n",
    "\n",
    "$$x = A^{-1} y$$\n",
    "\n",
    "if matrix A has inverse, or\n",
    "\n",
    "$$x = (A^T A)^{-1} A^T y$$\n",
    "\n",
    "if matrix A has pseudoinvers"
   ]
  },
  {
   "cell_type": "code",
   "execution_count": 4,
   "id": "c813e98a",
   "metadata": {},
   "outputs": [
    {
     "data": {
      "text/plain": [
       "array([[1, 2],\n",
       "       [1, 1],\n",
       "       [0, 2]])"
      ]
     },
     "execution_count": 4,
     "metadata": {},
     "output_type": "execute_result"
    }
   ],
   "source": [
    "# matrix A\n",
    "\n",
    "A = np.array([[1, 2], [1, 1], [0, 2]])\n",
    "A"
   ]
  },
  {
   "cell_type": "code",
   "execution_count": 5,
   "id": "11ce1124",
   "metadata": {},
   "outputs": [
    {
     "data": {
      "text/plain": [
       "array([4, 5, 9])"
      ]
     },
     "execution_count": 5,
     "metadata": {},
     "output_type": "execute_result"
    }
   ],
   "source": [
    "# vector y\n",
    "\n",
    "y = np.array([4, 5, 9]).T\n",
    "y"
   ]
  },
  {
   "cell_type": "code",
   "execution_count": 22,
   "id": "99581146",
   "metadata": {},
   "outputs": [
    {
     "data": {
      "text/plain": [
       "((4,), (4, 2))"
      ]
     },
     "execution_count": 22,
     "metadata": {},
     "output_type": "execute_result"
    }
   ],
   "source": [
    "# Dimensions\n",
    "\n",
    "y.shape, A.shape"
   ]
  },
  {
   "cell_type": "code",
   "execution_count": 34,
   "id": "cdb12be0",
   "metadata": {},
   "outputs": [
    {
     "name": "stdout",
     "output_type": "stream",
     "text": [
      "y.T: \n",
      " [ 2.6 -1.7  2.5 -1.6]\n",
      "\n",
      "y.T: \n",
      " [ 2.6 -1.7  2.5 -1.6]\n",
      "\n",
      "A.T: \n",
      " [[ 1.          1.          1.          1.        ]\n",
      " [ 0.90929743 -0.93909936  0.89336444 -0.88588921]]\n"
     ]
    }
   ],
   "source": [
    "# Transpose\n",
    "\n",
    "print('y.T: \\n', y.T) #TODO y <=> y.T\n",
    "print('\\ny.T: \\n', np.transpose(y)) #TODO y <=> y transposed)\n",
    "print('\\nA.T: \\n', A.T) # works for matrix"
   ]
  },
  {
   "cell_type": "markdown",
   "id": "b5507737",
   "metadata": {},
   "source": [
    "### Mean-square approximation - system solving"
   ]
  },
  {
   "cell_type": "code",
   "execution_count": 10,
   "id": "b08deb09",
   "metadata": {},
   "outputs": [
    {
     "name": "stderr",
     "output_type": "stream",
     "text": [
      "<ipython-input-10-4089b6726cf0>:1: FutureWarning: `rcond` parameter will change to the default of machine precision times ``max(M, N)`` where M and N are the input matrix dimensions.\n",
      "To use the future default and silence this warning we advise to pass `rcond=None`, to keep using the old, explicitly pass `rcond=-1`.\n",
      "  LA.lstsq(A, y)\n"
     ]
    },
    {
     "data": {
      "text/plain": [
       "(array([-1.33333333,  3.88888889]),\n",
       " array([13.44444444]),\n",
       " 2,\n",
       " array([3.1795868 , 0.94351882]))"
      ]
     },
     "execution_count": 10,
     "metadata": {},
     "output_type": "execute_result"
    }
   ],
   "source": [
    "LA.lstsq(A, y)"
   ]
  },
  {
   "cell_type": "code",
   "execution_count": 11,
   "id": "7d1954e3",
   "metadata": {},
   "outputs": [
    {
     "name": "stderr",
     "output_type": "stream",
     "text": [
      "<ipython-input-11-08a14160e71a>:1: FutureWarning: `rcond` parameter will change to the default of machine precision times ``max(M, N)`` where M and N are the input matrix dimensions.\n",
      "To use the future default and silence this warning we advise to pass `rcond=None`, to keep using the old, explicitly pass `rcond=-1`.\n",
      "  LA.lstsq(A, y.T)\n"
     ]
    },
    {
     "data": {
      "text/plain": [
       "(array([-1.33333333,  3.88888889]),\n",
       " array([13.44444444]),\n",
       " 2,\n",
       " array([3.1795868 , 0.94351882]))"
      ]
     },
     "execution_count": 11,
     "metadata": {},
     "output_type": "execute_result"
    }
   ],
   "source": [
    "LA.lstsq(A, y.T)"
   ]
  },
  {
   "cell_type": "code",
   "execution_count": 12,
   "id": "1306eb26",
   "metadata": {},
   "outputs": [
    {
     "data": {
      "text/plain": [
       "array([[2, 3],\n",
       "       [1, 1]])"
      ]
     },
     "execution_count": 12,
     "metadata": {},
     "output_type": "execute_result"
    }
   ],
   "source": [
    "np.vstack(([2, 3], [1, 1]))"
   ]
  },
  {
   "cell_type": "markdown",
   "id": "d6ebbec2",
   "metadata": {},
   "source": [
    "##### Example 1\n",
    "\n",
    "Determine the coefs values $a$ and $b$ for function $f(x) = a + b \\sin x$ using mean-square approximation for points $(2, 2.6)$, $(-1.22, -1.7)$, $(8.32, 2.5)$ and $(4.23, -1.6)$.\n",
    "\n",
    "Give the error estimate. Plot a set of points and draw the resulting function."
   ]
  },
  {
   "cell_type": "code",
   "execution_count": 13,
   "id": "5e5f1723",
   "metadata": {},
   "outputs": [
    {
     "data": {
      "text/plain": [
       "[(2, 2.6), (-1.22, -1.7), (8.32, 2.5), (4.23, -1.6)]"
      ]
     },
     "execution_count": 13,
     "metadata": {},
     "output_type": "execute_result"
    }
   ],
   "source": [
    "points = [(2, 2.6), (-1.22, -1.7), (8.32, 2.5), (4.23, -1.6)]\n",
    "points"
   ]
  },
  {
   "cell_type": "code",
   "execution_count": 14,
   "id": "dd0f6356",
   "metadata": {},
   "outputs": [
    {
     "data": {
      "text/plain": [
       "(array([ 2.  , -1.22,  8.32,  4.23]), array([ 2.6, -1.7,  2.5, -1.6]))"
      ]
     },
     "execution_count": 14,
     "metadata": {},
     "output_type": "execute_result"
    }
   ],
   "source": [
    "x = np.array([p[0] for p in points])\n",
    "y = np.array([p[1] for p in points])\n",
    "x, y"
   ]
  },
  {
   "cell_type": "code",
   "execution_count": 15,
   "id": "f1bc5283",
   "metadata": {},
   "outputs": [
    {
     "data": {
      "text/plain": [
       "array([[ 1.        ,  0.90929743],\n",
       "       [ 1.        , -0.93909936],\n",
       "       [ 1.        ,  0.89336444],\n",
       "       [ 1.        , -0.88588921]])"
      ]
     },
     "execution_count": 15,
     "metadata": {},
     "output_type": "execute_result"
    }
   ],
   "source": [
    "A = np.vstack((np.ones(len(x)), np.sin(x))).T\n",
    "A"
   ]
  },
  {
   "cell_type": "code",
   "execution_count": 16,
   "id": "cd558284",
   "metadata": {},
   "outputs": [
    {
     "name": "stderr",
     "output_type": "stream",
     "text": [
      "<ipython-input-16-96ff54db4e8b>:1: FutureWarning: `rcond` parameter will change to the default of machine precision times ``max(M, N)`` where M and N are the input matrix dimensions.\n",
      "To use the future default and silence this warning we advise to pass `rcond=None`, to keep using the old, explicitly pass `rcond=-1`.\n",
      "  res, rss, _, _ = LA.lstsq(A, y.T)\n"
     ]
    }
   ],
   "source": [
    "res, rss, _, _ = LA.lstsq(A, y.T)"
   ]
  },
  {
   "cell_type": "code",
   "execution_count": 17,
   "id": "abc2c3a7",
   "metadata": {},
   "outputs": [
    {
     "data": {
      "text/plain": [
       "(array([0.46292444, 2.31551348]), 0.0022605727583820995)"
      ]
     },
     "execution_count": 17,
     "metadata": {},
     "output_type": "execute_result"
    }
   ],
   "source": [
    "res, rss[0]"
   ]
  },
  {
   "cell_type": "code",
   "execution_count": 18,
   "id": "bc10adc6",
   "metadata": {},
   "outputs": [],
   "source": [
    "linspace = np.linspace(-10, 10, 100)"
   ]
  },
  {
   "cell_type": "code",
   "execution_count": 19,
   "id": "7f21ac57",
   "metadata": {},
   "outputs": [
    {
     "data": {
      "text/plain": [
       "(0.46292444204497935, 2.315513480740615)"
      ]
     },
     "execution_count": 19,
     "metadata": {},
     "output_type": "execute_result"
    }
   ],
   "source": [
    "a, b = res\n",
    "a, b"
   ]
  },
  {
   "cell_type": "code",
   "execution_count": 20,
   "id": "a62f5c16",
   "metadata": {},
   "outputs": [
    {
     "data": {
      "text/plain": [
       "[<matplotlib.lines.Line2D at 0x201dbaac8b0>]"
      ]
     },
     "execution_count": 20,
     "metadata": {},
     "output_type": "execute_result"
    },
    {
     "data": {
      "image/png": "[encoded data removed]",
      "text/plain": [
       "<Figure size 432x288 with 1 Axes>"
      ]
     },
     "metadata": {
      "needs_background": "light"
     },
     "output_type": "display_data"
    }
   ],
   "source": [
    "#plt.plot(linspace)\n",
    "plt.plot(linspace, a + b * np.sin(linspace))\n",
    "plt.plot(x, y, 'o', color='yellow')"
   ]
  },
  {
   "cell_type": "markdown",
   "id": "fbea9a36",
   "metadata": {},
   "source": [
    "# Linear regression"
   ]
  },
  {
   "cell_type": "markdown",
   "id": "8e2d4fbb",
   "metadata": {},
   "source": [
    "##### Example 1\n",
    "\n",
    "In file advertising.csv there are info about prices (in thousands of dollars) of advertising offers in different markets.\n",
    "\n",
    "I column - TV advertising prices\n",
    "\n",
    "II column - radio advertising prices\n",
    "\n",
    "III columb - newspaper advertising prices\n",
    "\n",
    "IV - total products sold on the advertised media\n",
    "\n",
    "Create LR model which predicts sales based on advertising prices."
   ]
  },
  {
   "cell_type": "code",
   "execution_count": 35,
   "id": "f087200c",
   "metadata": {},
   "outputs": [
    {
     "data": {
      "text/html": [
       "<div>\n",
       "<style scoped>\n",
       "    .dataframe tbody tr th:only-of-type {\n",
       "        vertical-align: middle;\n",
       "    }\n",
       "\n",
       "    .dataframe tbody tr th {\n",
       "        vertical-align: top;\n",
       "    }\n",
       "\n",
       "    .dataframe thead th {\n",
       "        text-align: right;\n",
       "    }\n",
       "</style>\n",
       "<table border=\"1\" class=\"dataframe\">\n",
       "  <thead>\n",
       "    <tr style=\"text-align: right;\">\n",
       "      <th></th>\n",
       "      <th>TV</th>\n",
       "      <th>Radio</th>\n",
       "      <th>Newspaper</th>\n",
       "      <th>Sales</th>\n",
       "    </tr>\n",
       "  </thead>\n",
       "  <tbody>\n",
       "    <tr>\n",
       "      <th>1</th>\n",
       "      <td>230.1</td>\n",
       "      <td>37.8</td>\n",
       "      <td>69.2</td>\n",
       "      <td>22.1</td>\n",
       "    </tr>\n",
       "    <tr>\n",
       "      <th>2</th>\n",
       "      <td>44.5</td>\n",
       "      <td>39.3</td>\n",
       "      <td>45.1</td>\n",
       "      <td>10.4</td>\n",
       "    </tr>\n",
       "    <tr>\n",
       "      <th>3</th>\n",
       "      <td>17.2</td>\n",
       "      <td>45.9</td>\n",
       "      <td>69.3</td>\n",
       "      <td>9.3</td>\n",
       "    </tr>\n",
       "    <tr>\n",
       "      <th>4</th>\n",
       "      <td>151.5</td>\n",
       "      <td>41.3</td>\n",
       "      <td>58.5</td>\n",
       "      <td>18.5</td>\n",
       "    </tr>\n",
       "    <tr>\n",
       "      <th>5</th>\n",
       "      <td>180.8</td>\n",
       "      <td>10.8</td>\n",
       "      <td>58.4</td>\n",
       "      <td>12.9</td>\n",
       "    </tr>\n",
       "    <tr>\n",
       "      <th>...</th>\n",
       "      <td>...</td>\n",
       "      <td>...</td>\n",
       "      <td>...</td>\n",
       "      <td>...</td>\n",
       "    </tr>\n",
       "    <tr>\n",
       "      <th>196</th>\n",
       "      <td>38.2</td>\n",
       "      <td>3.7</td>\n",
       "      <td>13.8</td>\n",
       "      <td>7.6</td>\n",
       "    </tr>\n",
       "    <tr>\n",
       "      <th>197</th>\n",
       "      <td>94.2</td>\n",
       "      <td>4.9</td>\n",
       "      <td>8.1</td>\n",
       "      <td>9.7</td>\n",
       "    </tr>\n",
       "    <tr>\n",
       "      <th>198</th>\n",
       "      <td>177.0</td>\n",
       "      <td>9.3</td>\n",
       "      <td>6.4</td>\n",
       "      <td>12.8</td>\n",
       "    </tr>\n",
       "    <tr>\n",
       "      <th>199</th>\n",
       "      <td>283.6</td>\n",
       "      <td>42.0</td>\n",
       "      <td>66.2</td>\n",
       "      <td>25.5</td>\n",
       "    </tr>\n",
       "    <tr>\n",
       "      <th>200</th>\n",
       "      <td>232.1</td>\n",
       "      <td>8.6</td>\n",
       "      <td>8.7</td>\n",
       "      <td>13.4</td>\n",
       "    </tr>\n",
       "  </tbody>\n",
       "</table>\n",
       "<p>200 rows × 4 columns</p>\n",
       "</div>"
      ],
      "text/plain": [
       "        TV  Radio  Newspaper  Sales\n",
       "1    230.1   37.8       69.2   22.1\n",
       "2     44.5   39.3       45.1   10.4\n",
       "3     17.2   45.9       69.3    9.3\n",
       "4    151.5   41.3       58.5   18.5\n",
       "5    180.8   10.8       58.4   12.9\n",
       "..     ...    ...        ...    ...\n",
       "196   38.2    3.7       13.8    7.6\n",
       "197   94.2    4.9        8.1    9.7\n",
       "198  177.0    9.3        6.4   12.8\n",
       "199  283.6   42.0       66.2   25.5\n",
       "200  232.1    8.6        8.7   13.4\n",
       "\n",
       "[200 rows x 4 columns]"
      ]
     },
     "execution_count": 35,
     "metadata": {},
     "output_type": "execute_result"
    }
   ],
   "source": [
    "data = pd.read_csv('data/advertising.csv', index_col=0) # fst col is for indexing\n",
    "data"
   ]
  },
  {
   "cell_type": "markdown",
   "id": "04c8921c",
   "metadata": {},
   "source": [
    "### See if there is a relation between type of advertising and sales (column)"
   ]
  },
  {
   "cell_type": "code",
   "execution_count": 47,
   "id": "edae1e2d",
   "metadata": {},
   "outputs": [
    {
     "data": {
      "image/png": "[encoded data removed]",
      "text/plain": [
       "<Figure size 432x288 with 1 Axes>"
      ]
     },
     "metadata": {
      "needs_background": "light"
     },
     "output_type": "display_data"
    },
    {
     "data": {
      "image/png": "[encoded data removed]",
      "text/plain": [
       "<Figure size 432x288 with 1 Axes>"
      ]
     },
     "metadata": {
      "needs_background": "light"
     },
     "output_type": "display_data"
    },
    {
     "data": {
      "image/png": "[encoded data removed]",
      "text/plain": [
       "<Figure size 432x288 with 1 Axes>"
      ]
     },
     "metadata": {
      "needs_background": "light"
     },
     "output_type": "display_data"
    }
   ],
   "source": [
    "plt.subplot()\n",
    "plt.scatter(data['TV'], data['Sales'])\n",
    "plt.show()\n",
    "\n",
    "plt.subplot()\n",
    "plt.scatter(data['Radio'], data['Sales'])\n",
    "plt.show()\n",
    "\n",
    "plt.subplot()\n",
    "plt.scatter(data['Newspaper'], data['Sales'])\n",
    "plt.show()"
   ]
  },
  {
   "cell_type": "markdown",
   "id": "e2d25211",
   "metadata": {},
   "source": [
    "- linear relaton between Sales and TV is the greatest\n",
    "\n",
    "- linear relaton between Sales and Newspaper is the smallest"
   ]
  },
  {
   "cell_type": "code",
   "execution_count": 88,
   "id": "c53debbf",
   "metadata": {},
   "outputs": [],
   "source": [
    "# Import libraries\n",
    "\n",
    "from sklearn import model_selection\n",
    "from sklearn import linear_model\n",
    "from sklearn import metrics"
   ]
  },
  {
   "cell_type": "code",
   "execution_count": 62,
   "id": "3b3ca3f3",
   "metadata": {},
   "outputs": [],
   "source": [
    "X = data[['TV', 'Radio', 'Newspaper']]\n",
    "y = data['Sales']"
   ]
  },
  {
   "cell_type": "code",
   "execution_count": 63,
   "id": "623f1367",
   "metadata": {},
   "outputs": [],
   "source": [
    "# Split the data into train and test set\n",
    "\n",
    "train_x, test_x, train_y, test_y = model_selection.train_test_split(X, y, test_size = 0.2, random_state = 123)\n",
    "\n",
    "# y is the real value so there is no point to do \"stratify = y\""
   ]
  },
  {
   "cell_type": "code",
   "execution_count": 65,
   "id": "93dd1141",
   "metadata": {},
   "outputs": [],
   "source": [
    "# Create linear model\n",
    "\n",
    "lr = linear_model.LinearRegression()\n",
    "lr.fit(train_x, train_y)\n",
    "predicted = lr.predict(test_x)"
   ]
  },
  {
   "cell_type": "code",
   "execution_count": 86,
   "id": "3e7f5e71",
   "metadata": {},
   "outputs": [
    {
     "data": {
      "image/png": "[encoded data removed]",
      "text/plain": [
       "<Figure size 432x288 with 1 Axes>"
      ]
     },
     "metadata": {
      "needs_background": "light"
     },
     "output_type": "display_data"
    }
   ],
   "source": [
    "# Predicted vs real values of Sales\n",
    "\n",
    "plt.scatter(np.arange(0, len(predicted)), predicted, color = 'teal')\n",
    "plt.scatter(np.arange(0, len(predicted)), test_y, color = 'yellowgreen')\n",
    "plt.show()"
   ]
  },
  {
   "cell_type": "code",
   "execution_count": 89,
   "id": "9e830d55",
   "metadata": {},
   "outputs": [
    {
     "name": "stdout",
     "output_type": "stream",
     "text": [
      "mse:  2.2030129791028488\n",
      "\n",
      "mae:  1.148816096178183\n",
      "\n",
      "r2:  0.9186533065791054\n"
     ]
    }
   ],
   "source": [
    "mse = metrics.mean_squared_error(predicted, test_y)\n",
    "print('mse: ', mse)\n",
    "mae = metrics.mean_absolute_error(predicted, test_y)\n",
    "print('\\nmae: ', mae)\n",
    "r2 = metrics.r2_score(predicted, test_y)\n",
    "print('\\nr2: ', r2)"
   ]
  },
  {
   "cell_type": "code",
   "execution_count": 92,
   "id": "2c449f5c",
   "metadata": {},
   "outputs": [
    {
     "data": {
      "text/plain": [
       "(2.9242267872501255, array([ 0.04558897,  0.18653389, -0.00063032]))"
      ]
     },
     "execution_count": 92,
     "metadata": {},
     "output_type": "execute_result"
    }
   ],
   "source": [
    "lr.intercept_, lr.coef_"
   ]
  },
  {
   "cell_type": "code",
   "execution_count": 112,
   "id": "6002fcf7",
   "metadata": {},
   "outputs": [],
   "source": [
    "# Repeat the same process but using only the most related columns 'TV' and 'Radio'\n",
    "\n",
    "# Split the data\n",
    "\n",
    "x_train, x_test, y_train, y_test = model_selection.train_test_split(data[['TV', 'Radio']], data['Sales'], test_size = 0.2, random_state = 123)"
   ]
  },
  {
   "cell_type": "code",
   "execution_count": 113,
   "id": "a211069e",
   "metadata": {},
   "outputs": [
    {
     "data": {
      "text/plain": [
       "((160, 2), (160,))"
      ]
     },
     "execution_count": 113,
     "metadata": {},
     "output_type": "execute_result"
    }
   ],
   "source": [
    "x_train.shape, y_train.shape"
   ]
  },
  {
   "cell_type": "code",
   "execution_count": 114,
   "id": "9b035671",
   "metadata": {},
   "outputs": [
    {
     "data": {
      "text/plain": [
       "LinearRegression()"
      ]
     },
     "execution_count": 114,
     "metadata": {},
     "output_type": "execute_result"
    }
   ],
   "source": [
    "# Create model\n",
    "\n",
    "lr_2 = linear_model.LinearRegression()\n",
    "\n",
    "# Train model\n",
    "\n",
    "lr_2.fit(x_train, y_train)"
   ]
  },
  {
   "cell_type": "code",
   "execution_count": 115,
   "id": "1581e9ea",
   "metadata": {},
   "outputs": [],
   "source": [
    "# Model predict\n",
    "\n",
    "predicted_2 = lr_2.predict(x_test)"
   ]
  },
  {
   "cell_type": "code",
   "execution_count": 117,
   "id": "b609d9ff",
   "metadata": {},
   "outputs": [
    {
     "data": {
      "text/plain": [
       "(2.204166397794404, 1.1495986554854518, 0.9185890572601252)"
      ]
     },
     "execution_count": 117,
     "metadata": {},
     "output_type": "execute_result"
    }
   ],
   "source": [
    "mse_2 = metrics.mean_squared_error(predicted_2, y_test)\n",
    "mae_2 = metrics.mean_absolute_error(predicted_2, y_test)\n",
    "r2_2 = metrics.r2_score(predicted_2, y_test)\n",
    "mse_2, mae_2, r2_2"
   ]
  },
  {
   "cell_type": "code",
   "execution_count": 118,
   "id": "79d5f822",
   "metadata": {},
   "outputs": [
    {
     "data": {
      "text/plain": [
       "(2.9141806882030536, array([0.04558518, 0.18617193]))"
      ]
     },
     "execution_count": 118,
     "metadata": {},
     "output_type": "execute_result"
    }
   ],
   "source": [
    "lr_2.intercept_, lr_2.coef_"
   ]
  },
  {
   "cell_type": "code",
   "execution_count": 127,
   "id": "b4fefeab",
   "metadata": {},
   "outputs": [
    {
     "data": {
      "text/plain": [
       "array([0.87302696, 0.8581613 , 0.92968723, 0.89013272, 0.93146498,\n",
       "       0.93138735, 0.7597901 , 0.91217097, 0.83891753, 0.92882311])"
      ]
     },
     "execution_count": 127,
     "metadata": {},
     "output_type": "execute_result"
    }
   ],
   "source": [
    "# Cross-validation\n",
    "# MSE is default scoring\n",
    "\n",
    "cv = 10\n",
    "scores = model_selection.cross_val_score(lr_2, data[['TV', 'Radio', 'Newspaper']], data['Sales'], cv = cv)\n",
    "scores"
   ]
  },
  {
   "cell_type": "code",
   "execution_count": 128,
   "id": "a92c7e8e",
   "metadata": {},
   "outputs": [
    {
     "data": {
      "text/plain": [
       "<BarContainer object of 10 artists>"
      ]
     },
     "execution_count": 128,
     "metadata": {},
     "output_type": "execute_result"
    },
    {
     "data": {
      "image/png": "[encoded data removed]",
      "text/plain": [
       "<Figure size 432x288 with 1 Axes>"
      ]
     },
     "metadata": {
      "needs_background": "light"
     },
     "output_type": "display_data"
    }
   ],
   "source": [
    "plt.bar(np.arange(0, cv), scores)"
   ]
  },
  {
   "cell_type": "code",
   "execution_count": 129,
   "id": "e3aecfc1",
   "metadata": {},
   "outputs": [
    {
     "data": {
      "text/plain": [
       "0.8853562237979616"
      ]
     },
     "execution_count": 129,
     "metadata": {},
     "output_type": "execute_result"
    }
   ],
   "source": [
    "scores.mean()"
   ]
  },
  {
   "cell_type": "code",
   "execution_count": 131,
   "id": "ddb858e6",
   "metadata": {},
   "outputs": [],
   "source": [
    "#TODO if x has only one column train_test_split does not work?"
   ]
  },
  {
   "cell_type": "code",
   "execution_count": null,
   "id": "a6d9c97c",
   "metadata": {},
   "outputs": [],
   "source": []
  }
 ],
 "metadata": {
  "kernelspec": {
   "display_name": "Python 3",
   "language": "python",
   "name": "python3"
  },
  "language_info": {
   "codemirror_mode": {
    "name": "ipython",
    "version": 3
   },
   "file_extension": ".py",
   "mimetype": "text/x-python",
   "name": "python",
   "nbconvert_exporter": "python",
   "pygments_lexer": "ipython3",
   "version": "3.9.5"
  }
 },
 "nbformat": 4,
 "nbformat_minor": 5
}
