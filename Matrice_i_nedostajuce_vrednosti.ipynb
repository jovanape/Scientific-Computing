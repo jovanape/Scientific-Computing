{
 "cells": [
  {
   "cell_type": "markdown",
   "id": "76207dfb",
   "metadata": {},
   "source": [
    "# Matrice i nedostajuce vrednosti"
   ]
  },
  {
   "cell_type": "code",
   "execution_count": 14,
   "id": "ee817612",
   "metadata": {},
   "outputs": [],
   "source": [
    "import numpy as np\n",
    "import pandas as pd"
   ]
  },
  {
   "cell_type": "code",
   "execution_count": 15,
   "id": "530b301e",
   "metadata": {},
   "outputs": [
    {
     "data": {
      "text/plain": [
       "array([[ 1,  2,  3],\n",
       "       [ 1, 43, 23],\n",
       "       [ 4,  9,  0]])"
      ]
     },
     "execution_count": 15,
     "metadata": {},
     "output_type": "execute_result"
    }
   ],
   "source": [
    "A = np.array([[1,2,3], [1,43,23], [4,9,0]])\n",
    "A"
   ]
  },
  {
   "cell_type": "code",
   "execution_count": 4,
   "id": "72cdbfee",
   "metadata": {},
   "outputs": [
    {
     "data": {
      "text/plain": [
       "array([[ 1,  1,  4],\n",
       "       [ 2, 43,  9],\n",
       "       [ 3, 23,  0]])"
      ]
     },
     "execution_count": 4,
     "metadata": {},
     "output_type": "execute_result"
    }
   ],
   "source": [
    "A.T"
   ]
  },
  {
   "cell_type": "code",
   "execution_count": 5,
   "id": "ae449450",
   "metadata": {},
   "outputs": [
    {
     "data": {
      "text/plain": [
       "array([[   1,    2,   12],\n",
       "       [   2, 1849,  207],\n",
       "       [  12,  207,    0]])"
      ]
     },
     "execution_count": 5,
     "metadata": {},
     "output_type": "execute_result"
    }
   ],
   "source": [
    "A*A.T"
   ]
  },
  {
   "cell_type": "code",
   "execution_count": 6,
   "id": "5cf667f9",
   "metadata": {},
   "outputs": [
    {
     "data": {
      "text/plain": [
       "array([[  14,  156,   22],\n",
       "       [ 156, 2379,  391],\n",
       "       [  22,  391,   97]])"
      ]
     },
     "execution_count": 6,
     "metadata": {},
     "output_type": "execute_result"
    }
   ],
   "source": [
    "np.dot(A, A.T)"
   ]
  },
  {
   "cell_type": "code",
   "execution_count": 7,
   "id": "d1245475",
   "metadata": {},
   "outputs": [
    {
     "data": {
      "text/plain": [
       "array([[  18,   81,   26],\n",
       "       [  81, 1934,  995],\n",
       "       [  26,  995,  538]])"
      ]
     },
     "execution_count": 7,
     "metadata": {},
     "output_type": "execute_result"
    }
   ],
   "source": [
    "np.dot(A.T, A)"
   ]
  },
  {
   "cell_type": "markdown",
   "id": "1e333c6c",
   "metadata": {},
   "source": [
    "Za ortogonalnu matricu $Q$ vazi:\n",
    "$$Q^TQ = QQ^T = I$$"
   ]
  },
  {
   "cell_type": "code",
   "execution_count": 10,
   "id": "72cc8fed",
   "metadata": {},
   "outputs": [
    {
     "data": {
      "text/plain": [
       "array([[ 0, -1,  0],\n",
       "       [ 1,  0,  0],\n",
       "       [ 0,  0, -1]])"
      ]
     },
     "execution_count": 10,
     "metadata": {},
     "output_type": "execute_result"
    }
   ],
   "source": [
    "M = np.array([[0, -1, 0], [1, 0, 0], [0, 0, -1]])\n",
    "M"
   ]
  },
  {
   "cell_type": "code",
   "execution_count": 11,
   "id": "74d9a9d8",
   "metadata": {},
   "outputs": [
    {
     "data": {
      "text/plain": [
       "array([[1, 0, 0],\n",
       "       [0, 1, 0],\n",
       "       [0, 0, 1]])"
      ]
     },
     "execution_count": 11,
     "metadata": {},
     "output_type": "execute_result"
    }
   ],
   "source": [
    "np.dot(M, M.T)"
   ]
  },
  {
   "cell_type": "code",
   "execution_count": 12,
   "id": "93bbd7a9",
   "metadata": {},
   "outputs": [
    {
     "data": {
      "text/plain": [
       "array([[1, 0, 0],\n",
       "       [0, 1, 0],\n",
       "       [0, 0, 1]])"
      ]
     },
     "execution_count": 12,
     "metadata": {},
     "output_type": "execute_result"
    }
   ],
   "source": [
    "np.dot(M.T, M)"
   ]
  },
  {
   "cell_type": "markdown",
   "id": "0e931347",
   "metadata": {},
   "source": [
    "### Nedostajuce vrednosti: np.nan, None"
   ]
  },
  {
   "cell_type": "code",
   "execution_count": 16,
   "id": "538e4382",
   "metadata": {},
   "outputs": [
    {
     "data": {
      "text/plain": [
       "nan"
      ]
     },
     "execution_count": 16,
     "metadata": {},
     "output_type": "execute_result"
    }
   ],
   "source": [
    "x = np.nan\n",
    "x"
   ]
  },
  {
   "cell_type": "code",
   "execution_count": 21,
   "id": "e77d655a",
   "metadata": {},
   "outputs": [],
   "source": [
    "y = None\n",
    "y"
   ]
  },
  {
   "cell_type": "code",
   "execution_count": 22,
   "id": "da07f14c",
   "metadata": {},
   "outputs": [
    {
     "data": {
      "text/plain": [
       "4"
      ]
     },
     "execution_count": 22,
     "metadata": {},
     "output_type": "execute_result"
    }
   ],
   "source": [
    "z = 4\n",
    "z"
   ]
  },
  {
   "cell_type": "code",
   "execution_count": 23,
   "id": "d462d371",
   "metadata": {},
   "outputs": [
    {
     "data": {
      "text/plain": [
       "(True, False)"
      ]
     },
     "execution_count": 23,
     "metadata": {},
     "output_type": "execute_result"
    }
   ],
   "source": [
    "np.isnan(x), np.isnan(z)"
   ]
  },
  {
   "cell_type": "code",
   "execution_count": 25,
   "id": "180a19fe",
   "metadata": {},
   "outputs": [],
   "source": [
    "# np.isnan(y) # nije podrzano za tip podataka None"
   ]
  },
  {
   "cell_type": "code",
   "execution_count": 28,
   "id": "ca323809",
   "metadata": {},
   "outputs": [],
   "source": [
    "# y.isnull() # nije podrzano za tip podataka None"
   ]
  },
  {
   "cell_type": "code",
   "execution_count": null,
   "id": "be328245",
   "metadata": {},
   "outputs": [],
   "source": []
  }
 ],
 "metadata": {
  "kernelspec": {
   "display_name": "Python 3",
   "language": "python",
   "name": "python3"
  },
  "language_info": {
   "codemirror_mode": {
    "name": "ipython",
    "version": 3
   },
   "file_extension": ".py",
   "mimetype": "text/x-python",
   "name": "python",
   "nbconvert_exporter": "python",
   "pygments_lexer": "ipython3",
   "version": "3.9.5"
  }
 },
 "nbformat": 4,
 "nbformat_minor": 5
}
