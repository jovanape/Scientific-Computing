{
 "cells": [
  {
   "cell_type": "markdown",
   "id": "c5343abc",
   "metadata": {},
   "source": [
    "# Sopstvene vrednosti i sopstveni vektori"
   ]
  },
  {
   "cell_type": "markdown",
   "id": "6a329ed7",
   "metadata": {},
   "source": [
    "Sopstveni vektori su vektori koji prilikom transformacije (matricom A) **ne menjaju svoj pravac**. **Smer (gore-dole, levo-desno) i duzina vektora se mogu promeniti** i tu promenu reflektuje sopstvena vrednost.\n",
    "\n",
    "Sopstveni vektor matrice ${A}$ je ne-nula vektor ${v}$ za koji vazi ${A * v = lambda * v}$, ${lambda}$ - skalar"
   ]
  },
  {
   "cell_type": "code",
   "execution_count": 112,
   "id": "98204d6c",
   "metadata": {},
   "outputs": [],
   "source": [
    "import numpy as np\n",
    "import pandas as pd\n",
    "from matplotlib import pyplot as plt"
   ]
  },
  {
   "cell_type": "code",
   "execution_count": 113,
   "id": "7e46bff0",
   "metadata": {},
   "outputs": [
    {
     "data": {
      "text/plain": [
       "array([[1, 2],\n",
       "       [2, 0]])"
      ]
     },
     "execution_count": 113,
     "metadata": {},
     "output_type": "execute_result"
    }
   ],
   "source": [
    "A = np.array([[1, 2], [2, 0]])\n",
    "A"
   ]
  },
  {
   "cell_type": "code",
   "execution_count": 114,
   "id": "0a872315",
   "metadata": {},
   "outputs": [],
   "source": [
    "# sopstvene vrednosti i sopstveni vektori matrice A\n",
    "\n",
    "values, vectors = np.linalg.eig(A)"
   ]
  },
  {
   "cell_type": "code",
   "execution_count": 115,
   "id": "e85d013b",
   "metadata": {},
   "outputs": [
    {
     "data": {
      "text/plain": [
       "array([ 2.56155281, -1.56155281])"
      ]
     },
     "execution_count": 115,
     "metadata": {},
     "output_type": "execute_result"
    }
   ],
   "source": [
    "# s. vrednosti\n",
    "\n",
    "values"
   ]
  },
  {
   "cell_type": "code",
   "execution_count": 116,
   "id": "e9339991",
   "metadata": {},
   "outputs": [
    {
     "data": {
      "text/plain": [
       "array([[ 0.78820544, -0.61541221],\n",
       "       [ 0.61541221,  0.78820544]])"
      ]
     },
     "execution_count": 116,
     "metadata": {},
     "output_type": "execute_result"
    }
   ],
   "source": [
    "# s. vektori\n",
    "\n",
    "vectors"
   ]
  },
  {
   "cell_type": "code",
   "execution_count": 117,
   "id": "cb2902b8",
   "metadata": {},
   "outputs": [
    {
     "data": {
      "text/plain": [
       "numpy.ndarray"
      ]
     },
     "execution_count": 117,
     "metadata": {},
     "output_type": "execute_result"
    }
   ],
   "source": [
    "type(vectors)"
   ]
  },
  {
   "cell_type": "code",
   "execution_count": 118,
   "id": "b3232f27",
   "metadata": {},
   "outputs": [
    {
     "data": {
      "text/plain": [
       "array([0.78820544, 0.61541221])"
      ]
     },
     "execution_count": 118,
     "metadata": {},
     "output_type": "execute_result"
    }
   ],
   "source": [
    "# 0-ta kolona n-dimenzionog niza sopstvenih vektora\n",
    "\n",
    "vectors[:, 0]"
   ]
  },
  {
   "cell_type": "code",
   "execution_count": 119,
   "id": "37adb2a8",
   "metadata": {},
   "outputs": [
    {
     "data": {
      "text/plain": [
       "(1.0, 1.0)"
      ]
     },
     "execution_count": 119,
     "metadata": {},
     "output_type": "execute_result"
    }
   ],
   "source": [
    "# norma svakog sopstvenog vektora je 1\n",
    "\n",
    "np.linalg.norm(vectors[:, 0]), np.linalg.norm(vectors[:, 1])"
   ]
  },
  {
   "cell_type": "code",
   "execution_count": 120,
   "id": "4cd4b89e",
   "metadata": {},
   "outputs": [
    {
     "data": {
      "text/plain": [
       "array([ 2.56155281, -1.56155281])"
      ]
     },
     "execution_count": 120,
     "metadata": {},
     "output_type": "execute_result"
    }
   ],
   "source": [
    "# sopstvene vrednosti su iste za istu matricu kada je ona transponovana i kada nije\n",
    "\n",
    "values_T, vectors_T = np.linalg.eig(A.T)\n",
    "values_T"
   ]
  },
  {
   "cell_type": "code",
   "execution_count": 121,
   "id": "5404daa2",
   "metadata": {},
   "outputs": [
    {
     "data": {
      "text/plain": [
       "0.0"
      ]
     },
     "execution_count": 121,
     "metadata": {},
     "output_type": "execute_result"
    }
   ],
   "source": [
    "# proizvod i-tog i j-tog sopstvenog vektora\n",
    "# matrica \"vectors\" i \"vectors_T\" (sadrzi s.\n",
    "# vektore matrice A.T), i <> j, je 0\n",
    "\n",
    "i = 0\n",
    "j = 1\n",
    "product_vi_uj= np.dot(vectors[:,i], vectors_T[:, j])\n",
    "product_vi_uj"
   ]
  },
  {
   "cell_type": "code",
   "execution_count": 122,
   "id": "4f0e32fe",
   "metadata": {},
   "outputs": [
    {
     "data": {
      "text/plain": [
       "array([ 0.3903882, -0.6403882])"
      ]
     },
     "execution_count": 122,
     "metadata": {},
     "output_type": "execute_result"
    }
   ],
   "source": [
    "# matrice A i A-1 imaju uzajamno reciprocne sopstvene vrednosti\n",
    "\n",
    "values_inv, vectors_inv = np.linalg.eig(np.linalg.inv(A))\n",
    "values_inv"
   ]
  },
  {
   "cell_type": "code",
   "execution_count": null,
   "id": "17b9b327",
   "metadata": {},
   "outputs": [],
   "source": []
  },
  {
   "cell_type": "code",
   "execution_count": 123,
   "id": "b1c8889e",
   "metadata": {},
   "outputs": [],
   "source": [
    "# Metode stepenovanja i iscrpljivanja"
   ]
  },
  {
   "cell_type": "code",
   "execution_count": null,
   "id": "f0f71996",
   "metadata": {},
   "outputs": [],
   "source": []
  },
  {
   "cell_type": "markdown",
   "id": "c1262118",
   "metadata": {},
   "source": [
    "# PCA - bez bibliotecke podrske"
   ]
  },
  {
   "cell_type": "markdown",
   "id": "2ece2e3c",
   "metadata": {},
   "source": [
    "PCA (eng. Principal component analysis) - analiza glavnih komponenti - koristi se za redukciju dimenzionalnosti (znacajno za interpretaciju i vizuelizaciju podataka i optimalnije korisceneje r. resursa). Procedura spada u nenadgledano ucenje - ne zahteva poznavanje ciljne promenljive (obelezja).\n",
    "\n",
    "PCA preslikava polazni skup atributa u novi skup atributa koristeci informacije o varijansi atributa - oni atributi koji imaju najvecu varijansu, ulaze u novi skup. Svaki od atributa novog skupa se naziva \"glavnom komponentom\".\n",
    "\n",
    "Prva glavna komponenta se bira tako da ima najvecu mogucu varijansu - tako da podaci duz nje najvise variraju. Svaka naredna glavna komponenta se bira tako da je **normalna** na sve prethodne komponente i da ima trenutno najvecu varijansu.\n",
    "\n",
    "U zavisnosti od broja odabranih glavnih komponenti, zavisi i gubitak informacija iz polaznog skupa."
   ]
  },
  {
   "cell_type": "code",
   "execution_count": 124,
   "id": "d52016b6",
   "metadata": {},
   "outputs": [],
   "source": [
    "from sklearn import preprocessing\n",
    "from sklearn import datasets\n",
    "from sklearn import decomposition"
   ]
  },
  {
   "cell_type": "code",
   "execution_count": 125,
   "id": "dee2c637",
   "metadata": {},
   "outputs": [
    {
     "data": {
      "text/plain": [
       "30"
      ]
     },
     "execution_count": 125,
     "metadata": {},
     "output_type": "execute_result"
    }
   ],
   "source": [
    "data = datasets.load_breast_cancer()\n",
    "X = data.data\n",
    "number_of_features = X.shape[1]\n",
    "number_of_features"
   ]
  },
  {
   "cell_type": "code",
   "execution_count": 126,
   "id": "25e7c4e4",
   "metadata": {},
   "outputs": [],
   "source": [
    "y = data.target"
   ]
  },
  {
   "cell_type": "code",
   "execution_count": 127,
   "id": "0ee0bd40",
   "metadata": {},
   "outputs": [
    {
     "data": {
      "text/plain": [
       "2"
      ]
     },
     "execution_count": 127,
     "metadata": {},
     "output_type": "execute_result"
    }
   ],
   "source": [
    "number_of_classes = np.unique(y).shape[0]\n",
    "number_of_classes"
   ]
  },
  {
   "cell_type": "code",
   "execution_count": 128,
   "id": "c4552d9c",
   "metadata": {},
   "outputs": [],
   "source": [
    "# print(data.DESCR)"
   ]
  },
  {
   "cell_type": "markdown",
   "id": "bf835844",
   "metadata": {},
   "source": [
    "1. Standardizacija\n",
    "2. Matrica kovarijanse\n",
    "3. Sopstvene vrednosti i sopstveni vektori matrice kovarijanse\n",
    "4. Sortiranje skupa sopstvenih vrednosti od najvece ka najmanjoj\n",
    "5. Matrica transformacije\n",
    "6. Transformacija polaznog skupa atributa"
   ]
  },
  {
   "cell_type": "code",
   "execution_count": 129,
   "id": "081aec38",
   "metadata": {},
   "outputs": [
    {
     "data": {
      "text/plain": [
       "(array([1.41272917e+01, 1.92896485e+01, 9.19690334e+01, 6.54889104e+02,\n",
       "        9.63602812e-02, 1.04340984e-01, 8.87993158e-02, 4.89191459e-02,\n",
       "        1.81161863e-01, 6.27976098e-02, 4.05172056e-01, 1.21685343e+00,\n",
       "        2.86605923e+00, 4.03370791e+01, 7.04097891e-03, 2.54781388e-02,\n",
       "        3.18937163e-02, 1.17961371e-02, 2.05422988e-02, 3.79490387e-03,\n",
       "        1.62691898e+01, 2.56772232e+01, 1.07261213e+02, 8.80583128e+02,\n",
       "        1.32368594e-01, 2.54265044e-01, 2.72188483e-01, 1.14606223e-01,\n",
       "        2.90075571e-01, 8.39458172e-02]),\n",
       " (30,))"
      ]
     },
     "execution_count": 129,
     "metadata": {},
     "output_type": "execute_result"
    }
   ],
   "source": [
    "mean_X = X.mean(axis = 0) # po svim atributima (kolonama), axis = 1 bi bilo po instancama (redovima)\n",
    "mean_X, mean_X.shape"
   ]
  },
  {
   "cell_type": "code",
   "execution_count": 130,
   "id": "7265d0d5",
   "metadata": {},
   "outputs": [
    {
     "data": {
      "text/plain": [
       "(569, 30)"
      ]
     },
     "execution_count": 130,
     "metadata": {},
     "output_type": "execute_result"
    }
   ],
   "source": [
    "X.shape"
   ]
  },
  {
   "cell_type": "code",
   "execution_count": 131,
   "id": "f1efb0f4",
   "metadata": {},
   "outputs": [
    {
     "data": {
      "text/plain": [
       "array([3.52095076e+00, 4.29725464e+00, 2.42776193e+01, 3.51604754e+02,\n",
       "       1.40517641e-02, 5.27663291e-02, 7.96497253e-02, 3.87687325e-02,\n",
       "       2.73901809e-02, 7.05415588e-03, 2.77068942e-01, 5.51163427e-01,\n",
       "       2.02007710e+00, 4.54510134e+01, 2.99987837e-03, 1.78924359e-02,\n",
       "       3.01595231e-02, 6.16486075e-03, 8.25910439e-03, 2.64374475e-03,\n",
       "       4.82899258e+00, 6.14085432e+00, 3.35730016e+01, 5.68856459e+02,\n",
       "       2.28123569e-02, 1.57198171e-01, 2.08440875e-01, 6.56745545e-02,\n",
       "       6.18130785e-02, 1.80453893e-02])"
      ]
     },
     "execution_count": 131,
     "metadata": {},
     "output_type": "execute_result"
    }
   ],
   "source": [
    "std_X = X.std(axis = 0)\n",
    "std_X"
   ]
  },
  {
   "cell_type": "code",
   "execution_count": 132,
   "id": "1d54732b",
   "metadata": {},
   "outputs": [],
   "source": [
    "X = (X - mean_X) / std_X"
   ]
  },
  {
   "cell_type": "code",
   "execution_count": 133,
   "id": "20433dc4",
   "metadata": {},
   "outputs": [
    {
     "data": {
      "image/png": "[encoded data removed]",
      "text/plain": [
       "<Figure size 432x288 with 1 Axes>"
      ]
     },
     "metadata": {
      "needs_background": "light"
     },
     "output_type": "display_data"
    }
   ],
   "source": [
    "plt.bar(np.arange(0, number_of_features), X.std(axis = 0))\n",
    "plt.xticks(np.arange(0, number_of_features))\n",
    "plt.show()"
   ]
  },
  {
   "cell_type": "code",
   "execution_count": 134,
   "id": "59ad79b1",
   "metadata": {},
   "outputs": [
    {
     "data": {
      "image/png": "[encoded data removed]",
      "text/plain": [
       "<Figure size 432x288 with 1 Axes>"
      ]
     },
     "metadata": {
      "needs_background": "light"
     },
     "output_type": "display_data"
    }
   ],
   "source": [
    "plt.bar(np.arange(0, number_of_features), X.mean(axis = 0))\n",
    "plt.xticks(np.arange(0, number_of_features))\n",
    "plt.show()"
   ]
  },
  {
   "cell_type": "code",
   "execution_count": 135,
   "id": "9296bc13",
   "metadata": {},
   "outputs": [],
   "source": [
    "covariance_matrix = np.cov(X.T)"
   ]
  },
  {
   "cell_type": "code",
   "execution_count": 136,
   "id": "2c57b1c7",
   "metadata": {},
   "outputs": [],
   "source": [
    "eig_values, eig_vectors = np.linalg.eig(covariance_matrix)"
   ]
  },
  {
   "cell_type": "code",
   "execution_count": 137,
   "id": "8a0e8103",
   "metadata": {},
   "outputs": [],
   "source": [
    "eig_pairs = [(np.abs(eig_values[i]), eig_vectors[:, i]) for i in range(0, len(eig_values))]\n",
    "eig_pairs.sort(reverse = True)"
   ]
  },
  {
   "cell_type": "code",
   "execution_count": 138,
   "id": "2c7ef59c",
   "metadata": {},
   "outputs": [
    {
     "data": {
      "text/plain": [
       "list"
      ]
     },
     "execution_count": 138,
     "metadata": {},
     "output_type": "execute_result"
    }
   ],
   "source": [
    "type(eig_pairs)"
   ]
  },
  {
   "cell_type": "code",
   "execution_count": 139,
   "id": "b9822eab",
   "metadata": {},
   "outputs": [],
   "source": [
    "# range(0, len(eig_values))"
   ]
  },
  {
   "cell_type": "code",
   "execution_count": 140,
   "id": "f9f23baa",
   "metadata": {},
   "outputs": [],
   "source": [
    "# TODO TODO TODO TODO TODO TODO\n",
    "# sort(reverse = True), np.cov(X.T), range vs arange"
   ]
  },
  {
   "cell_type": "markdown",
   "id": "77b4963a",
   "metadata": {},
   "source": [
    "- matrica X je dimenzija [number_of_instances x number_of_features]\n",
    "\n",
    "- transformation_matrix mora biti dimenzija [number_of_features x broj_nove_dimenzije_prostora_atributa]\n",
    "\n",
    "- njihov proizvod [number_of_instances x number_of_features] [number_of_features x broj_nove_dimenzije_prostora_atributa] ce dati matricu dimenzija [number_of_instances x broj_nove_dimenzije_prostora_atributa]"
   ]
  },
  {
   "cell_type": "code",
   "execution_count": 141,
   "id": "b7740808",
   "metadata": {},
   "outputs": [
    {
     "data": {
      "text/plain": [
       "(numpy.ndarray, (30, 2))"
      ]
     },
     "execution_count": 141,
     "metadata": {},
     "output_type": "execute_result"
    }
   ],
   "source": [
    "k = 2 # broj atributa koji ce biti zadrzan (dimenzija novog prostora atributa)\n",
    "\n",
    "transformation_matrix = np.zeros((number_of_features, k)) # II nacin: np.empty((m, n))\n",
    "type(transformation_matrix), transformation_matrix.shape"
   ]
  },
  {
   "cell_type": "code",
   "execution_count": 142,
   "id": "27619d29",
   "metadata": {},
   "outputs": [],
   "source": [
    "for i in range(0, k):\n",
    "    transformation_matrix[:, i] = eig_pairs[i][1] # i-ti element liste [i], ali 1. element para [1]"
   ]
  },
  {
   "cell_type": "code",
   "execution_count": 143,
   "id": "6b44e8ee",
   "metadata": {},
   "outputs": [],
   "source": [
    "# lista ima jedan indeks [], matrica [i, j] ili [i][j]"
   ]
  },
  {
   "cell_type": "code",
   "execution_count": 144,
   "id": "8bf9eb1d",
   "metadata": {},
   "outputs": [
    {
     "data": {
      "text/plain": [
       "numpy.ndarray"
      ]
     },
     "execution_count": 144,
     "metadata": {},
     "output_type": "execute_result"
    }
   ],
   "source": [
    "type(transformation_matrix)"
   ]
  },
  {
   "cell_type": "code",
   "execution_count": 145,
   "id": "d3a9878d",
   "metadata": {},
   "outputs": [
    {
     "data": {
      "text/plain": [
       "array([[ 0.21890244, -0.23385713],\n",
       "       [ 0.10372458, -0.05970609],\n",
       "       [ 0.22753729, -0.21518136]])"
      ]
     },
     "execution_count": 145,
     "metadata": {},
     "output_type": "execute_result"
    }
   ],
   "source": [
    "transformation_matrix[:3]"
   ]
  },
  {
   "cell_type": "code",
   "execution_count": 146,
   "id": "2c571e05",
   "metadata": {},
   "outputs": [
    {
     "data": {
      "text/plain": [
       "(569, 2)"
      ]
     },
     "execution_count": 146,
     "metadata": {},
     "output_type": "execute_result"
    }
   ],
   "source": [
    "X_transformed = transformation_matrix.T.dot(X.T).T # TODO TODO TODO Proveriti zasto ovaj redosled mnozenja\n",
    "X_transformed.shape"
   ]
  },
  {
   "cell_type": "code",
   "execution_count": 160,
   "id": "5c2f6c5c",
   "metadata": {},
   "outputs": [
    {
     "data": {
      "image/png": "[encoded data removed]",
      "text/plain": [
       "<Figure size 432x288 with 1 Axes>"
      ]
     },
     "metadata": {
      "needs_background": "light"
     },
     "output_type": "display_data"
    }
   ],
   "source": [
    "plt.scatter(X_transformed[:, 0], X_transformed[:, 1], c = ['red' if value == 0 else 'blue' for value in y])\n",
    "plt.xlabel('Prva glavna komponenta')\n",
    "plt.ylabel('Druga glavna komponenta')\n",
    "plt.title('Podaci u prostoru dimenzionalnosti 2D')\n",
    "plt.show()"
   ]
  },
  {
   "cell_type": "markdown",
   "id": "2cd3a94b",
   "metadata": {},
   "source": [
    "# PCA - sa biblioteckom podrskom"
   ]
  },
  {
   "cell_type": "code",
   "execution_count": 174,
   "id": "fe75e372",
   "metadata": {},
   "outputs": [],
   "source": [
    "data_ = datasets.load_breast_cancer()"
   ]
  },
  {
   "cell_type": "code",
   "execution_count": 175,
   "id": "63133625",
   "metadata": {},
   "outputs": [],
   "source": [
    "X_ = data_.data"
   ]
  },
  {
   "cell_type": "code",
   "execution_count": 176,
   "id": "1822fc03",
   "metadata": {},
   "outputs": [],
   "source": [
    "y_ = data_.target"
   ]
  },
  {
   "cell_type": "code",
   "execution_count": 177,
   "id": "1eb4bc4c",
   "metadata": {},
   "outputs": [
    {
     "data": {
      "text/plain": [
       "30"
      ]
     },
     "execution_count": 177,
     "metadata": {},
     "output_type": "execute_result"
    }
   ],
   "source": [
    "number_of_features_ = X_.shape[1]\n",
    "number_of_features_"
   ]
  },
  {
   "cell_type": "code",
   "execution_count": 182,
   "id": "73835fcc",
   "metadata": {},
   "outputs": [],
   "source": [
    "scaler_ = preprocessing.StandardScaler()\n",
    "scaler_.fit(X_)\n",
    "X_ = scaler_.transform(X_)"
   ]
  },
  {
   "cell_type": "code",
   "execution_count": 186,
   "id": "7a65e640",
   "metadata": {},
   "outputs": [],
   "source": [
    "pca_ = decomposition.PCA(n_components = 2)\n",
    "pca_.fit(X_)\n",
    "X_pca_ = pca_.transform(X_)"
   ]
  },
  {
   "cell_type": "code",
   "execution_count": 187,
   "id": "171d7dd3",
   "metadata": {},
   "outputs": [
    {
     "data": {
      "text/plain": [
       "<matplotlib.collections.PathCollection at 0x1e49d756430>"
      ]
     },
     "execution_count": 187,
     "metadata": {},
     "output_type": "execute_result"
    },
    {
     "data": {
      "image/png": "[encoded data removed]",
      "text/plain": [
       "<Figure size 432x288 with 1 Axes>"
      ]
     },
     "metadata": {
      "needs_background": "light"
     },
     "output_type": "display_data"
    }
   ],
   "source": [
    "plt.xlabel('I komponenta')\n",
    "plt.ylabel('II komponenta')\n",
    "plt.scatter(X_pca_[:, 0], X_pca_[:, 1], c = ['red' if y_val == 0 else 'blue' for y_val in y_])"
   ]
  },
  {
   "cell_type": "code",
   "execution_count": 202,
   "id": "b2b4d396",
   "metadata": {},
   "outputs": [
    {
     "data": {
      "image/png": "[encoded data removed]",
      "text/plain": [
       "<Figure size 1152x144 with 2 Axes>"
      ]
     },
     "metadata": {
      "needs_background": "light"
     },
     "output_type": "display_data"
    }
   ],
   "source": [
    "plt.matshow(pca_.components_, cmap = 'viridis')\n",
    "plt.xticks(np.arange(number_of_features_), data_.feature_names, rotation = 'vertical')\n",
    "plt.yticks(np.arange(pca_.components_.shape[0]), ['I komponenta', 'II komponenta'])\n",
    "plt.colorbar()\n",
    "plt.show()"
   ]
  },
  {
   "cell_type": "code",
   "execution_count": 191,
   "id": "df6d304f",
   "metadata": {},
   "outputs": [
    {
     "data": {
      "text/plain": [
       "2"
      ]
     },
     "execution_count": 191,
     "metadata": {},
     "output_type": "execute_result"
    }
   ],
   "source": [
    "len(pca.components_)"
   ]
  },
  {
   "cell_type": "code",
   "execution_count": 193,
   "id": "159168ec",
   "metadata": {},
   "outputs": [
    {
     "data": {
      "text/plain": [
       "2"
      ]
     },
     "execution_count": 193,
     "metadata": {},
     "output_type": "execute_result"
    }
   ],
   "source": [
    "pca.components_.shape[0]"
   ]
  },
  {
   "cell_type": "code",
   "execution_count": 207,
   "id": "86f6812d",
   "metadata": {},
   "outputs": [
    {
     "data": {
      "text/plain": [
       "array([0.44272026, 0.18971182])"
      ]
     },
     "execution_count": 207,
     "metadata": {},
     "output_type": "execute_result"
    }
   ],
   "source": [
    "pca_.explained_variance_ratio_ # kolicina varijanse koju svaka komponenta objasnjava"
   ]
  },
  {
   "cell_type": "code",
   "execution_count": 206,
   "id": "77c4300c",
   "metadata": {},
   "outputs": [
    {
     "data": {
      "text/plain": [
       "0.6324320765155937"
      ]
     },
     "execution_count": 206,
     "metadata": {},
     "output_type": "execute_result"
    }
   ],
   "source": [
    "np.sum(pca_.explained_variance_ratio_) # ukupna objasnjena varijansa"
   ]
  },
  {
   "cell_type": "code",
   "execution_count": 217,
   "id": "53e6089d",
   "metadata": {},
   "outputs": [
    {
     "data": {
      "text/plain": [
       "([<matplotlib.axis.XTick at 0x1e4a11f04f0>,\n",
       "  <matplotlib.axis.XTick at 0x1e4a11f04c0>],\n",
       " [Text(0, 0, ''), Text(0, 0, '')])"
      ]
     },
     "execution_count": 217,
     "metadata": {},
     "output_type": "execute_result"
    },
    {
     "data": {
      "image/png": "[encoded data removed]",
      "text/plain": [
       "<Figure size 432x288 with 1 Axes>"
      ]
     },
     "metadata": {
      "needs_background": "light"
     },
     "output_type": "display_data"
    }
   ],
   "source": [
    "# zajednicki objasnjena varijansa\n",
    "\n",
    "plt.bar(np.arange(0, len(pca_.components_)), np.cumsum(pca_.explained_variance_ratio_))\n",
    "plt.xticks(np.arange(len(pca_.components_)))"
   ]
  },
  {
   "cell_type": "code",
   "execution_count": 216,
   "id": "f89f3996",
   "metadata": {},
   "outputs": [
    {
     "data": {
      "text/plain": [
       "([<matplotlib.axis.XTick at 0x1e4a119cd60>,\n",
       "  <matplotlib.axis.XTick at 0x1e4a119cd30>],\n",
       " [Text(0, 0, ''), Text(0, 0, '')])"
      ]
     },
     "execution_count": 216,
     "metadata": {},
     "output_type": "execute_result"
    },
    {
     "data": {
      "image/png": "[encoded data removed]",
      "text/plain": [
       "<Figure size 432x288 with 1 Axes>"
      ]
     },
     "metadata": {
      "needs_background": "light"
     },
     "output_type": "display_data"
    }
   ],
   "source": [
    "# individualno objasnjena varijansa\n",
    "\n",
    "plt.bar(np.arange(0, len(pca_.components_)), pca_.explained_variance_ratio_)\n",
    "plt.xticks(np.arange(len(pca_.components_)))"
   ]
  },
  {
   "cell_type": "code",
   "execution_count": 219,
   "id": "4b96c603",
   "metadata": {},
   "outputs": [
    {
     "data": {
      "text/plain": [
       "array([0.50986939, 0.36935767, 0.59973306, 0.52728315, 1.17823103,\n",
       "       1.57615579, 1.44241581, 1.21735004, 1.16670672, 1.23825541,\n",
       "       0.7660135 , 0.31208935, 0.8329865 , 0.63361661, 0.58373339,\n",
       "       1.433757  , 1.26096716, 1.24289088, 0.67211211, 1.21307168,\n",
       "       0.59031722, 0.40867838, 0.68350233, 0.57597302, 1.07052369,\n",
       "       1.40946233, 1.38874795, 1.23378677, 0.96923115, 1.34726839])"
      ]
     },
     "execution_count": 219,
     "metadata": {},
     "output_type": "execute_result"
    }
   ],
   "source": [
    "# odredjivanje polaznih atributa\n",
    "# instanci (5, 2.5) odgovara sledeci\n",
    "# vektor polaznog skupa atributa\n",
    "\n",
    "pca_.inverse_transform([5, 2.5])"
   ]
  }
 ],
 "metadata": {
  "kernelspec": {
   "display_name": "Python 3",
   "language": "python",
   "name": "python3"
  },
  "language_info": {
   "codemirror_mode": {
    "name": "ipython",
    "version": 3
   },
   "file_extension": ".py",
   "mimetype": "text/x-python",
   "name": "python",
   "nbconvert_exporter": "python",
   "pygments_lexer": "ipython3",
   "version": "3.9.5"
  }
 },
 "nbformat": 4,
 "nbformat_minor": 5
}
