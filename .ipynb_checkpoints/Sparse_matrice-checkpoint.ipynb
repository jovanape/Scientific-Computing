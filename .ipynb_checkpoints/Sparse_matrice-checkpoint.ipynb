{
 "cells": [
  {
   "cell_type": "markdown",
   "id": "8b2ca05e",
   "metadata": {},
   "source": [
    "# Sparse matrice"
   ]
  },
  {
   "cell_type": "code",
   "execution_count": 28,
   "id": "70a13cae",
   "metadata": {},
   "outputs": [],
   "source": [
    "import pandas as pd\n",
    "import numpy as np\n",
    "from scipy import sparse\n",
    "from matplotlib import pyplot as plt"
   ]
  },
  {
   "cell_type": "code",
   "execution_count": 18,
   "id": "95470045",
   "metadata": {},
   "outputs": [
    {
     "data": {
      "text/plain": [
       "array([[0, 0, 1],\n",
       "       [0, 0, 0],\n",
       "       [0, 0, 1],\n",
       "       [1, 0, 0]])"
      ]
     },
     "execution_count": 18,
     "metadata": {},
     "output_type": "execute_result"
    }
   ],
   "source": [
    "array = np.array([[0, 0, 1], [0, 0, 0], [0, 0, 1], [1, 0, 0]])\n",
    "array"
   ]
  },
  {
   "cell_type": "code",
   "execution_count": 19,
   "id": "0607f16e",
   "metadata": {},
   "outputs": [
    {
     "data": {
      "text/plain": [
       "<4x3 sparse matrix of type '<class 'numpy.intc'>'\n",
       "\twith 3 stored elements in Compressed Sparse Column format>"
      ]
     },
     "execution_count": 19,
     "metadata": {},
     "output_type": "execute_result"
    }
   ],
   "source": [
    "sparse_matrix = sparse.csc_matrix(array)\n",
    "sparse_matrix"
   ]
  },
  {
   "cell_type": "code",
   "execution_count": 20,
   "id": "65640aa8",
   "metadata": {},
   "outputs": [
    {
     "data": {
      "text/plain": [
       "array([[0, 0, 1],\n",
       "       [0, 0, 0],\n",
       "       [0, 0, 1],\n",
       "       [1, 0, 0]], dtype=int32)"
      ]
     },
     "execution_count": 20,
     "metadata": {},
     "output_type": "execute_result"
    }
   ],
   "source": [
    "sparse_matrix.toarray()"
   ]
  },
  {
   "cell_type": "code",
   "execution_count": 21,
   "id": "14eca671",
   "metadata": {},
   "outputs": [
    {
     "data": {
      "text/plain": [
       "array([1, 1, 1], dtype=int32)"
      ]
     },
     "execution_count": 21,
     "metadata": {},
     "output_type": "execute_result"
    }
   ],
   "source": [
    "sparse_matrix.data"
   ]
  },
  {
   "cell_type": "markdown",
   "id": "43b23506",
   "metadata": {},
   "source": [
    "- Proizvoljne retke matrice se mogu generisati pozivom funkcije $random$ koja očekuje informacije o dimenziji matrice i gustini matice.\n",
    "\n",
    "- Gustina matrice je realan broj u intervalu $[0, 1]$ gde vrednost $0$ predstavlja matricu nula, a $1$ sasvim gustu matricu (bez nula vrednosti).\n",
    "\n",
    "- Podrazumevani format je $COO$ - menja se zadavanjem vrednosti opciji $format$."
   ]
  },
  {
   "cell_type": "code",
   "execution_count": 22,
   "id": "fa29f99f",
   "metadata": {},
   "outputs": [
    {
     "data": {
      "text/plain": [
       "array([[0.       , 0.       ],\n",
       "       [0.       , 0.7972679],\n",
       "       [0.       , 0.       ]])"
      ]
     },
     "execution_count": 22,
     "metadata": {},
     "output_type": "execute_result"
    }
   ],
   "source": [
    "A = sparse.random(m = 3, n = 2, density = 0.2)\n",
    "A.toarray()"
   ]
  },
  {
   "cell_type": "markdown",
   "id": "7892aa63",
   "metadata": {},
   "source": [
    "**Koeficijent retkosti matrice se racuna kao: 1 - (broj_ne_nula_elemenata_matrice / ukupan_broj_elemenata_matrice)**"
   ]
  },
  {
   "cell_type": "code",
   "execution_count": 25,
   "id": "15d2fb3e",
   "metadata": {},
   "outputs": [
    {
     "data": {
      "text/plain": [
       "0.33333333333333337"
      ]
     },
     "execution_count": 25,
     "metadata": {},
     "output_type": "execute_result"
    }
   ],
   "source": [
    "sparsity_coef = 1.0 - (A.count_nonzero() / A.shape[0] * A.shape[1])\n",
    "sparsity_coef"
   ]
  },
  {
   "cell_type": "code",
   "execution_count": 32,
   "id": "75536037",
   "metadata": {},
   "outputs": [
    {
     "data": {
      "text/plain": [
       "<matplotlib.image.AxesImage at 0x1f821259640>"
      ]
     },
     "execution_count": 32,
     "metadata": {},
     "output_type": "execute_result"
    },
    {
     "data": {
      "image/png": "[encoded data removed]",
      "text/plain": [
       "<Figure size 432x288 with 1 Axes>"
      ]
     },
     "metadata": {
      "needs_background": "light"
     },
     "output_type": "display_data"
    }
   ],
   "source": [
    "plt.spy(array)"
   ]
  },
  {
   "cell_type": "code",
   "execution_count": 97,
   "id": "0212d9f1",
   "metadata": {},
   "outputs": [
    {
     "data": {
      "text/plain": [
       "<matplotlib.lines.Line2D at 0x1f83059a0a0>"
      ]
     },
     "execution_count": 97,
     "metadata": {},
     "output_type": "execute_result"
    },
    {
     "data": {
      "image/png": "[encoded data removed]",
      "text/plain": [
       "<Figure size 432x288 with 1 Axes>"
      ]
     },
     "metadata": {
      "needs_background": "light"
     },
     "output_type": "display_data"
    }
   ],
   "source": [
    "plt.spy(A)"
   ]
  },
  {
   "cell_type": "markdown",
   "id": "edcac20b",
   "metadata": {},
   "source": [
    "### Velicine matrica"
   ]
  },
  {
   "cell_type": "markdown",
   "id": "7abc25af",
   "metadata": {},
   "source": [
    "Uporedimo razlike u veličinama gustih i retkih matrica. Skup podataka sa kojim ćemo eksperimentisati će biti uzorkovan iz binomne raspodele sa verovatnoćom uspeha 0.1 i biće dimenzija 2000x10000."
   ]
  },
  {
   "cell_type": "code",
   "execution_count": 45,
   "id": "08e5f8bb",
   "metadata": {},
   "outputs": [
    {
     "data": {
      "text/plain": [
       "1"
      ]
     },
     "execution_count": 45,
     "metadata": {},
     "output_type": "execute_result"
    }
   ],
   "source": [
    "M = np.random.binomial(1, 0.1, (2000, 10000))\n",
    "M.max()"
   ]
  },
  {
   "cell_type": "code",
   "execution_count": 47,
   "id": "0816ea56",
   "metadata": {},
   "outputs": [
    {
     "data": {
      "text/plain": [
       "array([[0, 0, 0, ..., 1, 0, 0],\n",
       "       [1, 0, 1, ..., 0, 0, 0],\n",
       "       [0, 0, 0, ..., 0, 0, 0],\n",
       "       ...,\n",
       "       [0, 0, 0, ..., 0, 0, 0],\n",
       "       [0, 0, 1, ..., 0, 0, 0],\n",
       "       [0, 0, 0, ..., 0, 0, 1]])"
      ]
     },
     "execution_count": 47,
     "metadata": {},
     "output_type": "execute_result"
    }
   ],
   "source": [
    "M = np.random.binomial(1, 0.1, (2000 * 10000)).reshape((2000,10000))\n",
    "M"
   ]
  },
  {
   "cell_type": "code",
   "execution_count": 36,
   "id": "f1391514",
   "metadata": {},
   "outputs": [
    {
     "data": {
      "text/plain": [
       "array([[0, 0, 0, ..., 0, 1, 0],\n",
       "       [0, 0, 0, ..., 0, 0, 0],\n",
       "       [0, 0, 0, ..., 0, 1, 0],\n",
       "       ...,\n",
       "       [0, 0, 1, ..., 0, 0, 0],\n",
       "       [0, 0, 0, ..., 0, 0, 0],\n",
       "       [0, 0, 0, ..., 0, 0, 0]])"
      ]
     },
     "execution_count": 36,
     "metadata": {},
     "output_type": "execute_result"
    }
   ],
   "source": [
    "dense_dataset = np.random.binomial(1, 0.1, 20000000).reshape(2000,10000)\n",
    "dense_dataset"
   ]
  },
  {
   "cell_type": "code",
   "execution_count": 48,
   "id": "e021943f",
   "metadata": {},
   "outputs": [],
   "source": [
    "sparse_dataset = sparse.csr_matrix(dense_dataset)"
   ]
  },
  {
   "cell_type": "code",
   "execution_count": 60,
   "id": "d7d56eab",
   "metadata": {},
   "outputs": [
    {
     "data": {
      "text/plain": [
       "<matplotlib.lines.Line2D at 0x1f830100910>"
      ]
     },
     "execution_count": 60,
     "metadata": {},
     "output_type": "execute_result"
    },
    {
     "data": {
      "image/png": "[encoded data removed]",
      "text/plain": [
       "<Figure size 432x288 with 1 Axes>"
      ]
     },
     "metadata": {
      "needs_background": "light"
     },
     "output_type": "display_data"
    }
   ],
   "source": [
    "plt.spy(sparse_dataset)"
   ]
  },
  {
   "cell_type": "code",
   "execution_count": 63,
   "id": "f92e9ca7",
   "metadata": {},
   "outputs": [
    {
     "data": {
      "text/plain": [
       "16.018788"
      ]
     },
     "execution_count": 63,
     "metadata": {},
     "output_type": "execute_result"
    }
   ],
   "source": [
    "sparse_dataset_size = (sparse_dataset.data.nbytes + sparse_dataset.indptr.nbytes + sparse_dataset.indices.nbytes)/1e6\n",
    "sparse_dataset_size"
   ]
  },
  {
   "cell_type": "code",
   "execution_count": 50,
   "id": "05b58f62",
   "metadata": {},
   "outputs": [
    {
     "data": {
      "text/plain": [
       "<matplotlib.image.AxesImage at 0x1f82ffde1c0>"
      ]
     },
     "execution_count": 50,
     "metadata": {},
     "output_type": "execute_result"
    },
    {
     "data": {
      "image/png": "[encoded data removed]",
      "text/plain": [
       "<Figure size 432x288 with 1 Axes>"
      ]
     },
     "metadata": {
      "needs_background": "light"
     },
     "output_type": "display_data"
    }
   ],
   "source": [
    "plt.spy(dense_dataset)"
   ]
  },
  {
   "cell_type": "code",
   "execution_count": 64,
   "id": "4c14f010",
   "metadata": {},
   "outputs": [
    {
     "data": {
      "text/plain": [
       "80.0"
      ]
     },
     "execution_count": 64,
     "metadata": {},
     "output_type": "execute_result"
    }
   ],
   "source": [
    "dense_dataset_size = dense_dataset.nbytes/1e6\n",
    "dense_dataset_size"
   ]
  },
  {
   "cell_type": "code",
   "execution_count": 74,
   "id": "5085cbf1",
   "metadata": {},
   "outputs": [
    {
     "data": {
      "image/png": "[encoded data removed]",
      "text/plain": [
       "<Figure size 432x288 with 1 Axes>"
      ]
     },
     "metadata": {
      "needs_background": "light"
     },
     "output_type": "display_data"
    }
   ],
   "source": [
    "plt.bar(['dense', 'sparse'], [dense_dataset_size, sparse_dataset_size], color = ['yellow', 'lightgreen'])\n",
    "plt.ylabel('MB')\n",
    "plt.show()"
   ]
  },
  {
   "cell_type": "markdown",
   "id": "13113fb1",
   "metadata": {},
   "source": [
    "**Format COO ne dozvoljava indeksiranje elemenata matrice koristeci [i, j], dok CSR to dozvoljava.**"
   ]
  },
  {
   "cell_type": "code",
   "execution_count": 75,
   "id": "4bef494a",
   "metadata": {},
   "outputs": [],
   "source": [
    "csr_sparse_matrix = sparse.random(m = 3, n = 2, density = 0.4, format = 'csr')"
   ]
  },
  {
   "cell_type": "code",
   "execution_count": 78,
   "id": "761292bc",
   "metadata": {},
   "outputs": [
    {
     "data": {
      "text/plain": [
       "0.27670234256125226"
      ]
     },
     "execution_count": 78,
     "metadata": {},
     "output_type": "execute_result"
    }
   ],
   "source": [
    "csr_sparse_matrix[2, 1]"
   ]
  },
  {
   "cell_type": "markdown",
   "id": "958ab615",
   "metadata": {},
   "source": [
    "**Uvek se mogu pročitati vrste ili kolone retkih matrica, ali će i one biti retki nizovi (matrice) sami po sebi.**"
   ]
  },
  {
   "cell_type": "code",
   "execution_count": 80,
   "id": "c72b99bc",
   "metadata": {},
   "outputs": [
    {
     "data": {
      "text/plain": [
       "<3x1 sparse matrix of type '<class 'numpy.float64'>'\n",
       "\twith 1 stored elements in Compressed Sparse Row format>"
      ]
     },
     "execution_count": 80,
     "metadata": {},
     "output_type": "execute_result"
    }
   ],
   "source": [
    "csr_sparse_matrix.getcol(1)"
   ]
  },
  {
   "cell_type": "code",
   "execution_count": 81,
   "id": "4fc98f00",
   "metadata": {},
   "outputs": [
    {
     "data": {
      "text/plain": [
       "<1x2 sparse matrix of type '<class 'numpy.float64'>'\n",
       "\twith 1 stored elements in Compressed Sparse Row format>"
      ]
     },
     "execution_count": 81,
     "metadata": {},
     "output_type": "execute_result"
    }
   ],
   "source": [
    "csr_sparse_matrix.getrow(0)"
   ]
  },
  {
   "cell_type": "code",
   "execution_count": 91,
   "id": "42c57472",
   "metadata": {},
   "outputs": [],
   "source": [
    "coo_sparse_matrix = sparse.random(m = 130, n = 60, density = 0.2)"
   ]
  },
  {
   "cell_type": "code",
   "execution_count": 92,
   "id": "d3e06d61",
   "metadata": {},
   "outputs": [],
   "source": [
    "# coo_sparse_matrix[1, 1] # ne moze"
   ]
  },
  {
   "cell_type": "code",
   "execution_count": 93,
   "id": "edad4655",
   "metadata": {},
   "outputs": [
    {
     "data": {
      "text/plain": [
       "<130x1 sparse matrix of type '<class 'numpy.float64'>'\n",
       "\twith 34 stored elements in Compressed Sparse Row format>"
      ]
     },
     "execution_count": 93,
     "metadata": {},
     "output_type": "execute_result"
    }
   ],
   "source": [
    "coo_sparse_matrix.getcol(4)"
   ]
  },
  {
   "cell_type": "code",
   "execution_count": 94,
   "id": "dc5ed1e5",
   "metadata": {},
   "outputs": [
    {
     "data": {
      "text/plain": [
       "<1x60 sparse matrix of type '<class 'numpy.float64'>'\n",
       "\twith 9 stored elements in Compressed Sparse Row format>"
      ]
     },
     "execution_count": 94,
     "metadata": {},
     "output_type": "execute_result"
    }
   ],
   "source": [
    "coo_sparse_matrix.getrow(1)"
   ]
  },
  {
   "cell_type": "markdown",
   "id": "46d04104",
   "metadata": {},
   "source": [
    "### Vreme"
   ]
  },
  {
   "cell_type": "code",
   "execution_count": 95,
   "id": "a05c6091",
   "metadata": {},
   "outputs": [],
   "source": [
    "from time import time"
   ]
  },
  {
   "cell_type": "code",
   "execution_count": 96,
   "id": "43ba854c",
   "metadata": {},
   "outputs": [
    {
     "data": {
      "text/plain": [
       "0.0019943714141845703"
      ]
     },
     "execution_count": 96,
     "metadata": {},
     "output_type": "execute_result"
    }
   ],
   "source": [
    "start = time()\n",
    "result = np.dot(coo_sparse_matrix, coo_sparse_matrix.T)\n",
    "end = time()\n",
    "\n",
    "end - start # vreme u sekundama"
   ]
  },
  {
   "cell_type": "code",
   "execution_count": null,
   "id": "e66cee7b",
   "metadata": {},
   "outputs": [],
   "source": []
  },
  {
   "cell_type": "code",
   "execution_count": null,
   "id": "cbc5c74e",
   "metadata": {},
   "outputs": [],
   "source": []
  }
 ],
 "metadata": {
  "kernelspec": {
   "display_name": "Python 3",
   "language": "python",
   "name": "python3"
  },
  "language_info": {
   "codemirror_mode": {
    "name": "ipython",
    "version": 3
   },
   "file_extension": ".py",
   "mimetype": "text/x-python",
   "name": "python",
   "nbconvert_exporter": "python",
   "pygments_lexer": "ipython3",
   "version": "3.9.5"
  }
 },
 "nbformat": 4,
 "nbformat_minor": 5
}
