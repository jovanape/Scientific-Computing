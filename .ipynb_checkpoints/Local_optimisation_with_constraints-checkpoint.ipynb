{
 "cells": [
  {
   "cell_type": "markdown",
   "id": "cc9aef06",
   "metadata": {},
   "source": [
    "# Metode lokalne optimizacije sa ogranicenjima"
   ]
  },
  {
   "cell_type": "markdown",
   "id": "ed0ed6c2",
   "metadata": {},
   "source": [
    "$$min[f(x)], gi(x) <= 0$$\n",
    "$$min[f] <=> max[-f]$$\n",
    "\n",
    "Primene:\n",
    "- Linearno programiranje: f - linearna funkcija, g - linearna funkcija\n",
    "- Kvadratno programiranje: f - kvadratna funkcija, g - linearna funkcija"
   ]
  },
  {
   "cell_type": "markdown",
   "id": "a67b5789",
   "metadata": {},
   "source": [
    "## Linearno programiranje"
   ]
  },
  {
   "cell_type": "markdown",
   "id": "46e4ecd4",
   "metadata": {},
   "source": [
    "Funkcija **linprog** paketa scipy.optimize"
   ]
  },
  {
   "cell_type": "markdown",
   "id": "f3903ce3",
   "metadata": {},
   "source": [
    "Funkcija cilja (ciljna funkcija):\n",
    "$$f(x) = c1x1 + c2x2 + ... + cnxn$$\n",
    "-------------------------------------\n",
    "\n",
    "Funkcija ogranicenja:\n",
    "$$gi(x) = a1xi1 + a2xi2 + ... + anxin$$\n",
    "-------------------------------------\n",
    "\n",
    "$$A = \\begin{matrix} a11 & a12 & ... & a1n \\\\ . & . & . & . \\\\ an1 & an2 & ... & ann \\end{matrix}$$\n",
    "\n",
    "$$c = [c1 c2 ... cn]$$\n",
    "$$b = [b1 b2 ... bn], g1(x) <= b1, ..., gi(x) <= bi, gn(x) <= bn$$\n",
    "$$x = [x1 x2 ... xn]^T$$\n",
    "$$min(cx), Ax <= b$$\n",
    "---------------------------------------------------------------\n",
    "\n",
    "$$A_ubx <= b_ub$$\n",
    "$$A_eqx = b_eq$$"
   ]
  },
  {
   "cell_type": "markdown",
   "id": "aa5ea27b",
   "metadata": {},
   "source": [
    "##### Primer 2. Vezbe 11. Lokalna optimizacija.\n",
    "\n",
    "Neka su data dva gradilišta, $g_1$ i $g_2$. Da bi se posao uspešno realizovao na gradilištu $g_1$, uvek moraju biti prisutna 4 kamiona, dok gradilište $g_2$ zahteva 7 kamiona. Kamioni se nalaze u stanicama $s_1$ i $s_2$, pri čemu stanica $s_1$ raspolaže sa 8 kamiona, a stanica $s_2$ sa 6 kamiona. Rastojanja izmđu stanica i gradilišta su data vrednostima: $d(s_1, g_1) = 8$, $d(s_1, g_2) = 9$, $d(g_1, s_2) = 3$ i $d(g_2, s_2) = 5$. Koliki treba da bude broj kamiona koji saobraća tako da se minimizuju troškovi?\n",
    "\n",
    "Napomena: Odgovor na ovo pitanje bi trebalo da uzme u obzir da se radi o broju kamiona kao celom broju, ali može se desiti da se u optimalnom rešenju dođe do situacije da broj kamiona koji ide od neke stanice od nekog gradilišta ne bude ceo, pa onda ovaj primer ne bi bio pogodan za ovu optimizaciju. Međutim, ovde će se ispostaviti da u optimalnom rešenju figurišu celi brojevi."
   ]
  },
  {
   "cell_type": "code",
   "execution_count": 15,
   "id": "1228665a",
   "metadata": {},
   "outputs": [],
   "source": [
    "# g1, g2 - gradilista\n",
    "# g1 - 4 kamiona\n",
    "# g2 - 7 kamiona\n",
    "\n",
    "# s1, s2 - stanice\n",
    "# s1 - 8 kamiona\n",
    "# s2 - 6 kamiona\n",
    "\n",
    "# d(s1, g1) = 8 = d1\n",
    "# d(s1, g2) = 9 = d2\n",
    "# d(g1, s2) = 3 = d3\n",
    "# d(g2, s2) = 5 = d4\n",
    "\n",
    "# Broj kamiona koji saobraca tako da se minimizuju troskovi?\n",
    "\n",
    "# f(x1, x2, x3, x4) = x1d1 + x2d2 + x3d3 + x4d4\n",
    "# f(x1, x2, x3, x4) = 8x1 + 9x2 + 3x3 + 5x4\n",
    "\n",
    "# x1 + x3 = 4\n",
    "# x2 + x4 = 7\n",
    "\n",
    "# x1 + x2 <= 8\n",
    "# x3 + x4 <= 6"
   ]
  },
  {
   "cell_type": "code",
   "execution_count": 46,
   "id": "43deb25e",
   "metadata": {},
   "outputs": [],
   "source": [
    "import numpy as np\n",
    "import pandas as pd\n",
    "from scipy import optimize as opt"
   ]
  },
  {
   "cell_type": "code",
   "execution_count": 19,
   "id": "f4e8a148",
   "metadata": {},
   "outputs": [],
   "source": [
    "# c = np.array([8, 9, 3, 5])\n",
    "\n",
    "# A_eq = np.array([[1, 1], [1, 1]])\n",
    "# b_eq = np.array([4, 7])\n",
    "\n",
    "# A_ub = np.array([[1, 1], [1, 1]])\n",
    "# b_ub = np.array([8, 6])\n",
    "\n",
    "# opt.linprog(c = c, A_ub = A_ub, b_ub = b_ub, A_eq = A_eq, b_eq = b_eq)\n",
    "\n",
    "# A_ub must have exactly two dimensions, and the number of columns in A_ub must be equal to the size of c"
   ]
  },
  {
   "cell_type": "code",
   "execution_count": 30,
   "id": "8778774d",
   "metadata": {},
   "outputs": [],
   "source": [
    "# f(x1, x2, x3, x4) = 8x1 + 9x2 + 3x3 + 5x4\n",
    "\n",
    "# x1 + x3 = 4 --> x3 = 4 - x1\n",
    "# x2 + x4 = 7 --> x4 = 7 - x2\n",
    "\n",
    "# x1 + x2 <= 8\n",
    "# x3 + x4 <= 6\n",
    "\n",
    "# ------------------------------------------\n",
    "\n",
    "\n",
    "# f = 8x1 + 9x2 + 3(4 - x1) + 5(7 - x2) --> f = 8x1 + 9x2 + 12 - 3x1 + 35 - 5x2 --> f = 5x1 + 4x2 + 47\n",
    "\n",
    "# x1 + x2 <= 8\n",
    "# 4 - x1 + 7 - x2 <= 6 --> - x1 - x2 <= -5\n",
    "\n",
    "# -------------------------------------------\n",
    "\n",
    "\n",
    "# f = 5x1 + 4x2 + 47 [Slobodan clan se zanemaruje!!!]\n",
    "\n",
    "# x1 + x2 <= 8\n",
    "# - x1 - x2 <= -5\n",
    "\n",
    "# ---------------------------------\n",
    "# x1, x2, x3, x4 >= 0\n",
    "\n",
    "# x3 = 4 - x1 >= 0 --> 4 - x1 >= 0 --> 0 <= x1 <= 4\n",
    "# x4 = 7 - x2 >= 0 --> 7 - x2 >= 0 --> 0 <= x2 <= 7"
   ]
  },
  {
   "cell_type": "code",
   "execution_count": 31,
   "id": "e0523787",
   "metadata": {},
   "outputs": [],
   "source": [
    "c = np.array([5, 4])\n",
    "\n",
    "A_ub = np.array([[1, 1], [-1, -1]])\n",
    "\n",
    "b_ub = np.array([8, -5])\n",
    "\n",
    "bounds = np.array([(0, 4), (0, 7)])"
   ]
  },
  {
   "cell_type": "code",
   "execution_count": 33,
   "id": "43655014",
   "metadata": {},
   "outputs": [
    {
     "data": {
      "text/plain": [
       "     con: array([], dtype=float64)\n",
       "     fun: 20.0\n",
       " message: 'Optimization terminated successfully.'\n",
       "     nit: 6\n",
       "   slack: array([3., 0.])\n",
       "  status: 0\n",
       " success: True\n",
       "       x: array([0., 5.])"
      ]
     },
     "execution_count": 33,
     "metadata": {},
     "output_type": "execute_result"
    }
   ],
   "source": [
    "opt.linprog(c = c, A_ub = A_ub, b_ub = b_ub, bounds = bounds, method = 'simplex')"
   ]
  },
  {
   "cell_type": "code",
   "execution_count": 34,
   "id": "0a1a2250",
   "metadata": {},
   "outputs": [],
   "source": [
    "# optimalna vrednost funkcije je 20 + onih 47 = 67\n",
    "# x1 = 0, x2 = 5, ostatak mozemo lako izracunati"
   ]
  },
  {
   "cell_type": "markdown",
   "id": "d50fac04",
   "metadata": {},
   "source": [
    "##### Primer 3. Vezbe 11. Lokalna optimizacija.\n",
    "\n",
    "Jedna fabrika slatkiša proizvodi dva tipa čokolade, A i B. Za proizvodnju obe vrste koristi se mleko i kakao masa. Da bi se napravila čokolada tipa A potrebne su jedna merica mleka i tri merice kakao mase, dok su za pripremu čokolade tipa B potrebne jedna merica mleka i dve merice kakao mase. Prodajom čokolade tipa A fabrika može da zaradi 6 dolara, a prodajom čokolade tipa B 5 dolara. Ukoliko fabrika raspolaže sa 5 merica mleka i 12 merica kakao mase, kako organizovati posao da profit fabrike bude što veći?"
   ]
  },
  {
   "cell_type": "code",
   "execution_count": 37,
   "id": "dc517dfa",
   "metadata": {},
   "outputs": [],
   "source": [
    "# A, B - cokolade\n",
    "# mleko, kakao\n",
    "# ----------------------\n",
    "\n",
    "# A - 1xmleko, 3xkakao\n",
    "# B - 1xmleko, 2xkakao\n",
    "\n",
    "# A - 6$\n",
    "# B - 5$\n",
    "\n",
    "# 5xmleko\n",
    "# 12xkakao\n",
    "\n",
    "# max profit"
   ]
  },
  {
   "cell_type": "code",
   "execution_count": 40,
   "id": "1d96c44f",
   "metadata": {},
   "outputs": [],
   "source": [
    "# max f(x1, x2) = (x1*6$ + x2*5$) --> min -f(x1, x2) = - 6x1 - 5x2\n",
    "# x1*1 + x2*1 <= 5\n",
    "# x1*3 + x2*2 <= 12\n",
    "\n",
    "# c = [6 5]\n",
    "# A = [[1, 1], [3, 2]]\n",
    "# b = [5, 12]\n",
    "\n",
    "# x1, x2 >= 0"
   ]
  },
  {
   "cell_type": "code",
   "execution_count": 41,
   "id": "14755818",
   "metadata": {},
   "outputs": [],
   "source": [
    "c = np.array([-6, -5])\n",
    "A_ub = np.array([[1, 1], [3, 2]])\n",
    "b_ub = np.array([5, 12])"
   ]
  },
  {
   "cell_type": "code",
   "execution_count": 42,
   "id": "3484a68f",
   "metadata": {},
   "outputs": [
    {
     "data": {
      "text/plain": [
       "     con: array([], dtype=float64)\n",
       "     fun: -27.0\n",
       " message: 'Optimization terminated successfully.'\n",
       "     nit: 3\n",
       "   slack: array([0., 0.])\n",
       "  status: 0\n",
       " success: True\n",
       "       x: array([2., 3.])"
      ]
     },
     "execution_count": 42,
     "metadata": {},
     "output_type": "execute_result"
    }
   ],
   "source": [
    "opt.linprog(c = c, A_ub = A_ub, b_ub = b_ub, method = 'simplex')"
   ]
  },
  {
   "cell_type": "code",
   "execution_count": 43,
   "id": "881da8a7",
   "metadata": {},
   "outputs": [],
   "source": [
    "# -27$ za minimizaciju --> 27$ za maksimizaciju - optimalna vrednost funkcije f\n",
    "# x1 = 2 - kolicina cokolade A, x2 = 3 - kolicina cokolade B"
   ]
  },
  {
   "cell_type": "code",
   "execution_count": null,
   "id": "d648de6d",
   "metadata": {},
   "outputs": [],
   "source": []
  },
  {
   "cell_type": "markdown",
   "id": "db290dcf",
   "metadata": {},
   "source": [
    "Naredne sekcije pokrivaju slucajeve u kojima f nije linearna ili g nije linearna."
   ]
  },
  {
   "cell_type": "markdown",
   "id": "1463b818",
   "metadata": {},
   "source": [
    "## Minimizacija nelinearnih funkcija jedne promenljive"
   ]
  },
  {
   "cell_type": "markdown",
   "id": "7bed6ad9",
   "metadata": {},
   "source": [
    "Funkcija **fminbound** paketa scipy.optimize\n",
    "\n",
    "- arg 1 = funkcija koja se minimizuje\n",
    "- arg 2 = donja granica ograničenja promenljive\n",
    "- arg 3 = gornja granica ograničenja promenljive\n",
    "- Ostala podešavanja se odnose na rešavač koji se koristi"
   ]
  },
  {
   "cell_type": "markdown",
   "id": "85334d16",
   "metadata": {},
   "source": [
    "Minimizovati nelinearnu funkciju $f:\\mathbb{R} \\rightarrow \\mathbb{R}$ datu sa $f(x) = \\sqrt{(x-3)^2+4}$, gde je $x \\in [-1.5, 1.5]$."
   ]
  },
  {
   "cell_type": "code",
   "execution_count": 44,
   "id": "81a7ed29",
   "metadata": {},
   "outputs": [],
   "source": [
    "# arg_1 = f; arg_2 = -1.5; arg_3 = 1.5"
   ]
  },
  {
   "cell_type": "code",
   "execution_count": 48,
   "id": "4a2f613e",
   "metadata": {},
   "outputs": [],
   "source": [
    "# opt.fminbound(np.sqrt((x - 3)**2 + 4), -1.5, 1.5)"
   ]
  },
  {
   "cell_type": "code",
   "execution_count": 49,
   "id": "17da2e5e",
   "metadata": {},
   "outputs": [],
   "source": [
    "def f(x):\n",
    "    return np.sqrt((x - 3)**2 + 4)"
   ]
  },
  {
   "cell_type": "code",
   "execution_count": 50,
   "id": "6d03704f",
   "metadata": {},
   "outputs": [
    {
     "data": {
      "text/plain": [
       "1.4999965250429437"
      ]
     },
     "execution_count": 50,
     "metadata": {},
     "output_type": "execute_result"
    }
   ],
   "source": [
    "opt.fminbound(f, -1.5, 1.5)"
   ]
  },
  {
   "cell_type": "code",
   "execution_count": 51,
   "id": "ccd66164",
   "metadata": {},
   "outputs": [
    {
     "data": {
      "text/plain": [
       "(1.4999965250429437, 2.5000020849757796, 0, 28)"
      ]
     },
     "execution_count": 51,
     "metadata": {},
     "output_type": "execute_result"
    }
   ],
   "source": [
    "opt.fminbound(f, -1.5, 1.5, full_output = True)"
   ]
  },
  {
   "cell_type": "code",
   "execution_count": null,
   "id": "479dcb55",
   "metadata": {},
   "outputs": [],
   "source": []
  },
  {
   "cell_type": "markdown",
   "id": "54eb1e97",
   "metadata": {},
   "source": [
    "## Minimizacija diferencijabilnih funkcija pod diferencijabilnim uslovima"
   ]
  },
  {
   "cell_type": "markdown",
   "id": "459a89ea",
   "metadata": {},
   "source": [
    "f - diferencijabilna, g - diferencijabilna\n",
    "\n",
    "Funkcija **minimize** paketa scipy.optimize"
   ]
  },
  {
   "cell_type": "markdown",
   "id": "68e99497",
   "metadata": {},
   "source": [
    "Prva dva argumenta ove funkcije su:\n",
    "1. ciljna funkcija\n",
    "2. početna tačka od koje se vrši minimizacija\n",
    "\n",
    "Od opcionih argumenata od značaja su tip rešavača **method** i ograničenja **constraints**.\n",
    "\n",
    "Ograničenja constraints se zadaju u formi rečnika u kojima type označava tip ograničenja (eq za jednakosna i ineq za nejednakosna), fun funkciju ograničenja, a jac jakobijan funkcije (u slučaju realne funkcije za ograničenje, reč je o gradijentu)."
   ]
  },
  {
   "cell_type": "markdown",
   "id": "1a2c708a",
   "metadata": {},
   "source": [
    "Primer 1. Vezbe 11. Minimizacija diferencijabilnih funkcija sa diferencijabilnim uslovima.\n",
    "\n",
    "Minimizovati funkciju:\n",
    "    \n",
    "f(x, y) = 2xy + 2x\n",
    "\n",
    "(0, 0) - pocetna tacka\n",
    "\n",
    "Uslovi: y - 1 >= 0,  x^3 - y = 0"
   ]
  },
  {
   "cell_type": "code",
   "execution_count": 73,
   "id": "da99909f",
   "metadata": {},
   "outputs": [],
   "source": [
    "def f(x):\n",
    "    return 2*x[0]*x[1] + 2*x[0] - x[0]**2 - x[1]**2"
   ]
  },
  {
   "cell_type": "code",
   "execution_count": 89,
   "id": "793fe051",
   "metadata": {},
   "outputs": [],
   "source": [
    "def g1(x):\n",
    "    return np.array([x[0]**3 - x[1]]) # x^3 - y = 0\n",
    "\n",
    "def g2(x):\n",
    "    return np.array([x[1] - 1]) # 1 - y <= 0"
   ]
  },
  {
   "cell_type": "code",
   "execution_count": 98,
   "id": "41dae08a",
   "metadata": {},
   "outputs": [],
   "source": [
    "#### NAPOMENE:\n",
    "\n",
    "### Ne trazi se izvod ciljne funkcije, nego IZVOD OGRANICENJA\n",
    "\n",
    "# f(x, y)'x, f(x, y)'y --> (2xy + 2x - x^2 - y^2)'x, (2xy + 2x - x^2 - y^2)'y --> 2y + 2 - 2x, 2x - 2y\n",
    "\n",
    "#def jac(x, y):\n",
    "#    return np.array([2*y + 2 - 2*x, 2*x - 2*y])\n",
    "\n",
    "### Funkcija je MINIMIZE - NE OPTIMIZE"
   ]
  },
  {
   "cell_type": "code",
   "execution_count": 99,
   "id": "cac8b12c",
   "metadata": {},
   "outputs": [],
   "source": [
    "constraints = [\n",
    "    {\n",
    "        'type':'eq',\n",
    "        'fun': g1,\n",
    "        'jac': lambda x: np.array([3*x[0]**2, -1])\n",
    "    },\n",
    "    {\n",
    "        'type':'ineq',\n",
    "        'fun': g2,\n",
    "        'jac': lambda x: np.array([0, 1])\n",
    "    }\n",
    "]"
   ]
  },
  {
   "cell_type": "code",
   "execution_count": 100,
   "id": "764d4fe1",
   "metadata": {},
   "outputs": [
    {
     "data": {
      "text/plain": [
       "     fun: 2.000000000000418\n",
       "     jac: array([1.99999905e+00, 9.53674309e-07])\n",
       " message: 'Optimization terminated successfully'\n",
       "    nfev: 106\n",
       "     nit: 18\n",
       "    njev: 18\n",
       "  status: 0\n",
       " success: True\n",
       "       x: array([1., 1.])"
      ]
     },
     "execution_count": 100,
     "metadata": {},
     "output_type": "execute_result"
    }
   ],
   "source": [
    "opt.minimize(f, (0, 0), constraints = constraints)"
   ]
  },
  {
   "cell_type": "code",
   "execution_count": 95,
   "id": "727c59b5",
   "metadata": {},
   "outputs": [],
   "source": [
    "# II nacin"
   ]
  },
  {
   "cell_type": "code",
   "execution_count": 94,
   "id": "dc0f43a0",
   "metadata": {},
   "outputs": [],
   "source": [
    "constraints = [{\n",
    "    'type': 'ineq',\n",
    "    'fun': lambda x: np.array([x[1] - 1]),\n",
    "    'jac': lambda x: np.array([0, 1])\n",
    "}, {\n",
    "    'type': 'eq',\n",
    "    'fun': lambda x: np.array([x[0]**3 - x[1]]),\n",
    "    'jac': lambda x: np.array([3*x[0]**2, -1])\n",
    "}]"
   ]
  },
  {
   "cell_type": "code",
   "execution_count": 97,
   "id": "da07f2eb",
   "metadata": {},
   "outputs": [
    {
     "data": {
      "text/plain": [
       "     fun: 2.000000000000418\n",
       "     jac: array([1.99999905e+00, 9.53674309e-07])\n",
       " message: 'Optimization terminated successfully'\n",
       "    nfev: 106\n",
       "     nit: 18\n",
       "    njev: 18\n",
       "  status: 0\n",
       " success: True\n",
       "       x: array([1., 1.])"
      ]
     },
     "execution_count": 97,
     "metadata": {},
     "output_type": "execute_result"
    }
   ],
   "source": [
    "opt.minimize(f, (0, 0), constraints = constraints)"
   ]
  },
  {
   "cell_type": "markdown",
   "id": "fdc25b7b",
   "metadata": {},
   "source": [
    "##### Primer 2\n",
    "\n",
    "Od papira kvadratnog oblika dužine stranice $L=30$ potrebno je napraviti kutiju kao na slici tako da njena zapremina bude što veća."
   ]
  },
  {
   "cell_type": "code",
   "execution_count": 110,
   "id": "d8e3b838",
   "metadata": {},
   "outputs": [],
   "source": [
    "# B = s^2, H = x\n",
    "# 2x + s = L --> 2x + s = 30 --> s = 30 - 2x\n",
    "\n",
    "# x, s > 0\n",
    "\n",
    "# B = (30 - 2x)^2\n",
    "\n",
    "# max V --> max BH --> max x(30 - 2x)^2 --> min -x(30 - 2x)^2 NE! MORA DA OSTANE F-JA 2 PROMENLJIVE!\n",
    "\n",
    "def f(x):\n",
    "    return -x[0]*x[1]*x[1]"
   ]
  },
  {
   "cell_type": "code",
   "execution_count": 111,
   "id": "fbb6d3b6",
   "metadata": {},
   "outputs": [],
   "source": [
    "def g(x):\n",
    "    return np.array([2*x[0] + x[1] - 30])"
   ]
  },
  {
   "cell_type": "code",
   "execution_count": 112,
   "id": "e4c6c164",
   "metadata": {},
   "outputs": [],
   "source": [
    "constraints = [{\n",
    "    'type': 'eq',\n",
    "    'fun': g,\n",
    "    'jac': lambda x: np.array([2, 1])\n",
    "}]"
   ]
  },
  {
   "cell_type": "code",
   "execution_count": 113,
   "id": "ef6c10fe",
   "metadata": {},
   "outputs": [
    {
     "data": {
      "text/plain": [
       "     fun: -1999.99999976847\n",
       "     jac: array([-399.99502563, -200.00123596])\n",
       " message: 'Optimization terminated successfully'\n",
       "    nfev: 19\n",
       "     nit: 6\n",
       "    njev: 6\n",
       "  status: 0\n",
       " success: True\n",
       "       x: array([ 5.00006212, 19.99987576])"
      ]
     },
     "execution_count": 113,
     "metadata": {},
     "output_type": "execute_result"
    }
   ],
   "source": [
    "opt.minimize(f, (10, 10), constraints = constraints)"
   ]
  },
  {
   "cell_type": "code",
   "execution_count": 114,
   "id": "c40f4ef0",
   "metadata": {},
   "outputs": [],
   "source": [
    "# x = 5, s = 20, f = 2000 (zapremina)"
   ]
  },
  {
   "cell_type": "code",
   "execution_count": null,
   "id": "2ec13583",
   "metadata": {},
   "outputs": [],
   "source": []
  },
  {
   "cell_type": "code",
   "execution_count": null,
   "id": "3e7a7305",
   "metadata": {},
   "outputs": [],
   "source": []
  }
 ],
 "metadata": {
  "kernelspec": {
   "display_name": "Python 3",
   "language": "python",
   "name": "python3"
  },
  "language_info": {
   "codemirror_mode": {
    "name": "ipython",
    "version": 3
   },
   "file_extension": ".py",
   "mimetype": "text/x-python",
   "name": "python",
   "nbconvert_exporter": "python",
   "pygments_lexer": "ipython3",
   "version": "3.9.5"
  }
 },
 "nbformat": 4,
 "nbformat_minor": 5
}
