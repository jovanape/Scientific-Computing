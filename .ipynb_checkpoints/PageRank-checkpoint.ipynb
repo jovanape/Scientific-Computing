{
 "cells": [
  {
   "cell_type": "markdown",
   "id": "befc681e",
   "metadata": {},
   "source": [
    "# Grafovi - Networkx"
   ]
  },
  {
   "cell_type": "code",
   "execution_count": 2,
   "id": "473481e3",
   "metadata": {},
   "outputs": [
    {
     "name": "stdout",
     "output_type": "stream",
     "text": [
      "Collecting networkx\n",
      "  Downloading networkx-2.6.2-py3-none-any.whl (1.9 MB)\n",
      "Installing collected packages: networkx\n",
      "Note: you may need to restart the kernel to use updated packages.\n"
     ]
    },
    {
     "name": "stderr",
     "output_type": "stream",
     "text": [
      "WARNING: Ignoring invalid distribution -ip (c:\\python39\\lib\\site-packages)\n",
      "WARNING: Ignoring invalid distribution -ip (c:\\python39\\lib\\site-packages)\n",
      "WARNING: Ignoring invalid distribution -ip (c:\\python39\\lib\\site-packages)\n",
      "ERROR: Could not install packages due to an OSError: [WinError 5] Access is denied: 'C:\\\\Python39\\\\share'\n",
      "Consider using the `--user` option or check the permissions.\n",
      "\n",
      "WARNING: Ignoring invalid distribution -ip (c:\\python39\\lib\\site-packages)\n",
      "WARNING: Ignoring invalid distribution -ip (c:\\python39\\lib\\site-packages)\n",
      "WARNING: Ignoring invalid distribution -ip (c:\\python39\\lib\\site-packages)\n"
     ]
    }
   ],
   "source": [
    "pip install networkx"
   ]
  },
  {
   "cell_type": "code",
   "execution_count": 57,
   "id": "b15a563f",
   "metadata": {},
   "outputs": [],
   "source": [
    "import networkx as nx\n",
    "import pandas as pd\n",
    "import numpy as np\n",
    "from matplotlib import pyplot as plt"
   ]
  },
  {
   "cell_type": "markdown",
   "id": "cbf7bb1f",
   "metadata": {},
   "source": [
    "**Neusmereni grafovi**"
   ]
  },
  {
   "cell_type": "code",
   "execution_count": 7,
   "id": "c7eea225",
   "metadata": {},
   "outputs": [],
   "source": [
    "G = nx.Graph()\n",
    "G.add_node('a')\n",
    "G.add_node('b')\n",
    "G.add_node('c')\n",
    "G.add_node('d')\n",
    "G.add_node('e')\n",
    "G.add_edge('a', 'b')\n",
    "G.add_edge('b', 'e')\n",
    "G.add_edge('b', 'c')\n",
    "G.add_edge('c', 'e')\n",
    "G.add_edge('a', 'd')"
   ]
  },
  {
   "cell_type": "code",
   "execution_count": 8,
   "id": "5ef084b1",
   "metadata": {},
   "outputs": [
    {
     "data": {
      "text/plain": [
       "NodeView(('a', 'b', 'c', 'd', 'e'))"
      ]
     },
     "execution_count": 8,
     "metadata": {},
     "output_type": "execute_result"
    }
   ],
   "source": [
    "G.nodes()"
   ]
  },
  {
   "cell_type": "code",
   "execution_count": 9,
   "id": "b173099c",
   "metadata": {},
   "outputs": [
    {
     "data": {
      "text/plain": [
       "EdgeView([('a', 'b'), ('a', 'd'), ('b', 'e'), ('b', 'c'), ('c', 'e')])"
      ]
     },
     "execution_count": 9,
     "metadata": {},
     "output_type": "execute_result"
    }
   ],
   "source": [
    "G.edges()"
   ]
  },
  {
   "cell_type": "code",
   "execution_count": 10,
   "id": "88c4b55c",
   "metadata": {},
   "outputs": [
    {
     "data": {
      "text/plain": [
       "'Graph with 5 nodes and 5 edges'"
      ]
     },
     "execution_count": 10,
     "metadata": {},
     "output_type": "execute_result"
    }
   ],
   "source": [
    "nx.info(G)"
   ]
  },
  {
   "cell_type": "code",
   "execution_count": 12,
   "id": "d8ea1d6d",
   "metadata": {},
   "outputs": [
    {
     "data": {
      "text/plain": [
       "DegreeView({'a': 2, 'b': 3, 'c': 2, 'd': 1, 'e': 2})"
      ]
     },
     "execution_count": 12,
     "metadata": {},
     "output_type": "execute_result"
    }
   ],
   "source": [
    "G.degree()"
   ]
  },
  {
   "cell_type": "code",
   "execution_count": 18,
   "id": "f40ee910",
   "metadata": {},
   "outputs": [
    {
     "name": "stdout",
     "output_type": "stream",
     "text": [
      "b\n",
      "d\n"
     ]
    }
   ],
   "source": [
    "for i in G.neighbors('a'):\n",
    "    print(i)"
   ]
  },
  {
   "cell_type": "code",
   "execution_count": 19,
   "id": "fb8963e8",
   "metadata": {},
   "outputs": [],
   "source": [
    "G.remove_node('a')"
   ]
  },
  {
   "cell_type": "code",
   "execution_count": 20,
   "id": "9c2505fe",
   "metadata": {},
   "outputs": [],
   "source": [
    "# G.clear()"
   ]
  },
  {
   "cell_type": "code",
   "execution_count": 24,
   "id": "05911f0a",
   "metadata": {},
   "outputs": [],
   "source": [
    "G.add_edge('a', 'c', weight = 0.3)\n",
    "G.add_edge('b', 'a', weight = 0.4)\n",
    "\n",
    "weighted_edges = [('a', 'd', 0.2), ('a', 'e', 0.6)]\n",
    "G.add_weighted_edges_from(weighted_edges)\n",
    "\n",
    "G.add_edge('a', 'f', weight = 0.3, color = 'red', description = 'long edge')"
   ]
  },
  {
   "cell_type": "code",
   "execution_count": 25,
   "id": "a8745c74",
   "metadata": {},
   "outputs": [
    {
     "data": {
      "text/plain": [
       "{}"
      ]
     },
     "execution_count": 25,
     "metadata": {},
     "output_type": "execute_result"
    }
   ],
   "source": [
    "G.nodes['a']"
   ]
  },
  {
   "cell_type": "code",
   "execution_count": 26,
   "id": "2484d963",
   "metadata": {},
   "outputs": [
    {
     "data": {
      "text/plain": [
       "NodeDataView({'b': {}, 'c': {}, 'd': {}, 'e': {}, 'a': {}, 'f': {}})"
      ]
     },
     "execution_count": 26,
     "metadata": {},
     "output_type": "execute_result"
    }
   ],
   "source": [
    "G.nodes.data()"
   ]
  },
  {
   "cell_type": "code",
   "execution_count": 27,
   "id": "82f32513",
   "metadata": {},
   "outputs": [
    {
     "data": {
      "text/plain": [
       "EdgeDataView([('b', 'e', {}), ('b', 'c', {}), ('b', 'a', {'weight': 0.4}), ('c', 'e', {}), ('c', 'a', {'weight': 0.3}), ('d', 'a', {'weight': 0.2}), ('e', 'a', {'weight': 0.6}), ('a', 'f', {'weight': 0.3, 'color': 'red', 'description': 'long edge'})])"
      ]
     },
     "execution_count": 27,
     "metadata": {},
     "output_type": "execute_result"
    }
   ],
   "source": [
    "G.edges.data()"
   ]
  },
  {
   "cell_type": "code",
   "execution_count": 28,
   "id": "00802338",
   "metadata": {},
   "outputs": [
    {
     "data": {
      "text/plain": [
       "{'weight': 0.3, 'color': 'red', 'description': 'long edge'}"
      ]
     },
     "execution_count": 28,
     "metadata": {},
     "output_type": "execute_result"
    }
   ],
   "source": [
    "G.edges['a', 'f']"
   ]
  },
  {
   "cell_type": "code",
   "execution_count": 30,
   "id": "f73aac16",
   "metadata": {},
   "outputs": [
    {
     "data": {
      "text/plain": [
       "DegreeView({'b': 2.4, 'c': 2.3, 'd': 0.2, 'e': 2.6, 'a': 1.8, 'f': 0.3})"
      ]
     },
     "execution_count": 30,
     "metadata": {},
     "output_type": "execute_result"
    }
   ],
   "source": [
    "G.degree(weight = 'weight')"
   ]
  },
  {
   "cell_type": "code",
   "execution_count": 34,
   "id": "a8cbefc2",
   "metadata": {},
   "outputs": [
    {
     "data": {
      "text/plain": [
       "DegreeView({'a': 3, 'b': 1, 'c': 1, 'd': 1})"
      ]
     },
     "execution_count": 34,
     "metadata": {},
     "output_type": "execute_result"
    }
   ],
   "source": [
    "G_small = nx.Graph()\n",
    "G_small.add_node('a')\n",
    "G_small.add_node('b')\n",
    "G_small.add_node('c')\n",
    "G_small.add_weighted_edges_from([('a', 'b', 0.5), ('a', 'c', 0.1), ('a', 'd', 0.2)])\n",
    "G_small.degree()"
   ]
  },
  {
   "cell_type": "code",
   "execution_count": 35,
   "id": "75c36d34",
   "metadata": {},
   "outputs": [
    {
     "data": {
      "text/plain": [
       "DegreeView({'a': 0.8, 'b': 0.5, 'c': 0.1, 'd': 0.2})"
      ]
     },
     "execution_count": 35,
     "metadata": {},
     "output_type": "execute_result"
    }
   ],
   "source": [
    "G_small.degree(weight = 'weight')"
   ]
  },
  {
   "cell_type": "code",
   "execution_count": 36,
   "id": "37392f3e",
   "metadata": {},
   "outputs": [],
   "source": [
    "nx.write_gml(G, 'demo_graph.gml')"
   ]
  },
  {
   "cell_type": "code",
   "execution_count": 37,
   "id": "583aed95",
   "metadata": {},
   "outputs": [
    {
     "name": "stderr",
     "output_type": "stream",
     "text": [
      "'cat' is not recognized as an internal or external command,\n",
      "operable program or batch file.\n"
     ]
    }
   ],
   "source": [
    "!cat 'demo_graph.gml'"
   ]
  },
  {
   "cell_type": "code",
   "execution_count": 41,
   "id": "809b437b",
   "metadata": {},
   "outputs": [
    {
     "data": {
      "image/png": "[encoded data removed]",
      "text/plain": [
       "<Figure size 432x288 with 1 Axes>"
      ]
     },
     "metadata": {},
     "output_type": "display_data"
    }
   ],
   "source": [
    "nx.draw_networkx_nodes(G, nx.spring_layout(G))\n",
    "nx.draw_networkx_labels(G, nx.spring_layout(G), font_color='yellow', font_size=20, font_family='arial')\n",
    "nx.draw_networkx_edges(G, nx.spring_layout(G), G.edges(), width=1, edge_color='purple')\n",
    "plt.axis('off')\n",
    "plt.show()"
   ]
  },
  {
   "cell_type": "code",
   "execution_count": 44,
   "id": "17d50351",
   "metadata": {},
   "outputs": [
    {
     "data": {
      "image/png": "[encoded data removed]",
      "text/plain": [
       "<Figure size 432x288 with 1 Axes>"
      ]
     },
     "metadata": {},
     "output_type": "display_data"
    }
   ],
   "source": [
    "nx.draw_circular(G, with_labels = True, node_color = 'yellow')"
   ]
  },
  {
   "cell_type": "code",
   "execution_count": null,
   "id": "aacfe5c2",
   "metadata": {},
   "outputs": [],
   "source": []
  },
  {
   "cell_type": "code",
   "execution_count": null,
   "id": "64658059",
   "metadata": {},
   "outputs": [],
   "source": []
  },
  {
   "cell_type": "markdown",
   "id": "09955ab1",
   "metadata": {},
   "source": [
    "**Usmereni grafovi**"
   ]
  },
  {
   "cell_type": "code",
   "execution_count": 46,
   "id": "99d42d88",
   "metadata": {},
   "outputs": [
    {
     "data": {
      "image/png": "[encoded data removed]",
      "text/plain": [
       "<Figure size 432x288 with 1 Axes>"
      ]
     },
     "metadata": {},
     "output_type": "display_data"
    }
   ],
   "source": [
    "Gd = nx.DiGraph()\n",
    "Gd.add_weighted_edges_from([('a', 'b', 0.3), ('a', 'c', 0.8), ('c', 'a', 0.6)])\n",
    "nx.draw_circular(Gd, with_labels = True, node_color = 'orange')"
   ]
  },
  {
   "cell_type": "code",
   "execution_count": 49,
   "id": "ba5683dc",
   "metadata": {},
   "outputs": [
    {
     "name": "stdout",
     "output_type": "stream",
     "text": [
      "b\n",
      "c\n"
     ]
    }
   ],
   "source": [
    "for n in Gd.successors('a'):\n",
    "    print(n)"
   ]
  },
  {
   "cell_type": "code",
   "execution_count": 50,
   "id": "735b8ae0",
   "metadata": {},
   "outputs": [
    {
     "name": "stdout",
     "output_type": "stream",
     "text": [
      "c\n"
     ]
    }
   ],
   "source": [
    "for n in Gd.predecessors('a'):\n",
    "    print(n)"
   ]
  },
  {
   "cell_type": "markdown",
   "id": "782c99ef",
   "metadata": {},
   "source": [
    "**PageRank**"
   ]
  },
  {
   "cell_type": "code",
   "execution_count": 51,
   "id": "494fd886",
   "metadata": {},
   "outputs": [],
   "source": [
    "scores = nx.pagerank(Gd, alpha = 0.9)"
   ]
  },
  {
   "cell_type": "code",
   "execution_count": 52,
   "id": "fc508ac3",
   "metadata": {},
   "outputs": [
    {
     "data": {
      "text/plain": [
       "{'a': 0.42871846743364384, 'b': 0.19794859797294945, 'c': 0.37333293459340655}"
      ]
     },
     "execution_count": 52,
     "metadata": {},
     "output_type": "execute_result"
    }
   ],
   "source": [
    "scores"
   ]
  },
  {
   "cell_type": "markdown",
   "id": "62d67029",
   "metadata": {},
   "source": [
    "**Shortest path**"
   ]
  },
  {
   "cell_type": "code",
   "execution_count": 54,
   "id": "8243054a",
   "metadata": {},
   "outputs": [
    {
     "data": {
      "text/plain": [
       "['a', 'c']"
      ]
     },
     "execution_count": 54,
     "metadata": {},
     "output_type": "execute_result"
    }
   ],
   "source": [
    "# Najkraće rastojanje između dva čvora grafa se može dobiti funkcijom shortest_path.\n",
    "\n",
    "nx.shortest_path(Gd, source = 'a', target = 'c')"
   ]
  },
  {
   "cell_type": "markdown",
   "id": "37f5622f",
   "metadata": {},
   "source": [
    "**Matrica povezanosti**"
   ]
  },
  {
   "cell_type": "code",
   "execution_count": 58,
   "id": "4ef0803e",
   "metadata": {},
   "outputs": [
    {
     "data": {
      "image/png": "[encoded data removed]",
      "text/plain": [
       "<Figure size 432x288 with 1 Axes>"
      ]
     },
     "metadata": {},
     "output_type": "display_data"
    }
   ],
   "source": [
    "link_matrix = np.matrix([\n",
    "    [0, 0, 1, 0.5], \n",
    "    [1.0 / 3, 0, 0, 0],\n",
    "    [1.0 / 3, 0, 0.5, 0.5], \n",
    "    [1.0 / 3, 0, 0.5, 0]\n",
    "])\n",
    "\n",
    "Gm = nx.from_numpy_matrix(link_matrix, create_using = nx.DiGraph)\n",
    "nx.draw_circular(Gm, with_labels = True)"
   ]
  },
  {
   "cell_type": "code",
   "execution_count": null,
   "id": "cbc7b90b",
   "metadata": {},
   "outputs": [],
   "source": []
  },
  {
   "cell_type": "code",
   "execution_count": null,
   "id": "d8bf4035",
   "metadata": {},
   "outputs": [],
   "source": []
  }
 ],
 "metadata": {
  "kernelspec": {
   "display_name": "Python 3",
   "language": "python",
   "name": "python3"
  },
  "language_info": {
   "codemirror_mode": {
    "name": "ipython",
    "version": 3
   },
   "file_extension": ".py",
   "mimetype": "text/x-python",
   "name": "python",
   "nbconvert_exporter": "python",
   "pygments_lexer": "ipython3",
   "version": "3.9.5"
  }
 },
 "nbformat": 4,
 "nbformat_minor": 5
}
