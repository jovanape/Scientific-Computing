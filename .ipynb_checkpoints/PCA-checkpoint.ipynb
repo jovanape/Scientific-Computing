{
 "cells": [
  {
   "cell_type": "markdown",
   "id": "b6645bbb",
   "metadata": {},
   "source": [
    "# PCA"
   ]
  },
  {
   "cell_type": "markdown",
   "id": "c73bb14e",
   "metadata": {},
   "source": [
    "Steps:\n",
    "\n",
    "1. Data scaling\n",
    "\n",
    "2. PCA"
   ]
  },
  {
   "cell_type": "code",
   "execution_count": 6,
   "id": "8cf1df63",
   "metadata": {},
   "outputs": [],
   "source": [
    "import pandas as pd\n",
    "import numpy as np\n",
    "from matplotlib import pyplot as plt\n",
    "from sklearn import datasets\n",
    "from sklearn import preprocessing\n",
    "from sklearn import decomposition"
   ]
  },
  {
   "cell_type": "markdown",
   "id": "14a6b570",
   "metadata": {},
   "source": [
    "Load dataset"
   ]
  },
  {
   "cell_type": "code",
   "execution_count": 42,
   "id": "72d68ad9",
   "metadata": {},
   "outputs": [],
   "source": [
    "data = datasets.load_breast_cancer()"
   ]
  },
  {
   "cell_type": "markdown",
   "id": "a3826446",
   "metadata": {},
   "source": [
    "Find out the number of features and number of classes"
   ]
  },
  {
   "cell_type": "code",
   "execution_count": 43,
   "id": "10195cae",
   "metadata": {},
   "outputs": [
    {
     "name": "stdout",
     "output_type": "stream",
     "text": [
      "num of features:  (569, 30)\n",
      "num of classes:  (2,)\n"
     ]
    }
   ],
   "source": [
    "X = data.data\n",
    "y = data.target\n",
    "print('num of features: ', data.data.shape) # num of features\n",
    "print('num of classes: ', np.unique(y).shape) # num of classes"
   ]
  },
  {
   "cell_type": "markdown",
   "id": "16512f68",
   "metadata": {},
   "source": [
    "Plot the mean value and the variance of each column"
   ]
  },
  {
   "cell_type": "code",
   "execution_count": 44,
   "id": "6e039b4e",
   "metadata": {},
   "outputs": [],
   "source": [
    "mean_X = []\n",
    "std_X = []\n",
    "\n",
    "for i in np.arange(0, X.shape[1]):\n",
    "    mean_X = np.append(mean_X, X[:, i].mean())\n",
    "    std_X = np.append(std_X, X[:, i].std())"
   ]
  },
  {
   "cell_type": "code",
   "execution_count": 45,
   "id": "aa836f81",
   "metadata": {},
   "outputs": [
    {
     "data": {
      "image/png": "[encoded data removed]",
      "text/plain": [
       "<Figure size 432x288 with 1 Axes>"
      ]
     },
     "metadata": {
      "needs_background": "light"
     },
     "output_type": "display_data"
    },
    {
     "data": {
      "image/png": "[encoded data removed]",
      "text/plain": [
       "<Figure size 432x288 with 1 Axes>"
      ]
     },
     "metadata": {
      "needs_background": "light"
     },
     "output_type": "display_data"
    }
   ],
   "source": [
    "plt.subplot(211)\n",
    "plt.title('mean')\n",
    "plt.bar(np.arange(0, len(mean_X)), mean_X, color = 'gold')\n",
    "plt.show()\n",
    "\n",
    "plt.subplot(212)\n",
    "plt.title('std')\n",
    "plt.bar(np.arange(0, len(std_X)), std_X, color = 'darkgreen')\n",
    "plt.show()"
   ]
  },
  {
   "cell_type": "markdown",
   "id": "1ef11cbd",
   "metadata": {},
   "source": [
    "Standardize (scale) data"
   ]
  },
  {
   "cell_type": "code",
   "execution_count": 47,
   "id": "020dc3ac",
   "metadata": {},
   "outputs": [],
   "source": [
    "scaler = preprocessing.StandardScaler()\n",
    "X = scaler.fit_transform(X)"
   ]
  },
  {
   "cell_type": "code",
   "execution_count": 54,
   "id": "af4f4497",
   "metadata": {},
   "outputs": [
    {
     "data": {
      "text/plain": [
       "(array([-3.35603445e-17, -7.96082591e-17, -3.82431833e-17, -2.34141938e-18,\n",
       "        -4.52674414e-17,  1.20973335e-17, -5.46331190e-18,  5.93159577e-17,\n",
       "         1.58045808e-16, -7.99984956e-18, -3.98285193e-17, -9.65835496e-18,\n",
       "         9.72176840e-17,  8.40959795e-17, -5.47550679e-18,  1.47509421e-16,\n",
       "         1.01461507e-16, -6.63402159e-18,  1.52192260e-17, -1.17070969e-17,\n",
       "         7.76570762e-17, -4.19504306e-17, -4.68283877e-17,  6.24378502e-17,\n",
       "         9.67786679e-17,  1.55314152e-16, -1.40485163e-17, -7.45351837e-17,\n",
       "        -1.85350173e-16, -3.90236564e-17]),\n",
       " array([1., 1., 1., 1., 1., 1., 1., 1., 1., 1., 1., 1., 1., 1., 1., 1., 1.,\n",
       "        1., 1., 1., 1., 1., 1., 1., 1., 1., 1., 1., 1., 1.]))"
      ]
     },
     "execution_count": 54,
     "metadata": {},
     "output_type": "execute_result"
    }
   ],
   "source": [
    "X.mean(axis = 0), X.std(axis = 0)"
   ]
  },
  {
   "cell_type": "markdown",
   "id": "17a6ae3f",
   "metadata": {},
   "source": [
    "Plot mean and std of X scaled"
   ]
  },
  {
   "cell_type": "code",
   "execution_count": 55,
   "id": "b6bcb9bc",
   "metadata": {},
   "outputs": [
    {
     "data": {
      "image/png": "[encoded data removed]",
      "text/plain": [
       "<Figure size 432x288 with 1 Axes>"
      ]
     },
     "metadata": {
      "needs_background": "light"
     },
     "output_type": "display_data"
    },
    {
     "data": {
      "image/png": "[encoded data removed]",
      "text/plain": [
       "<Figure size 432x288 with 1 Axes>"
      ]
     },
     "metadata": {
      "needs_background": "light"
     },
     "output_type": "display_data"
    }
   ],
   "source": [
    "plt.subplot(211)\n",
    "plt.title('new mean')\n",
    "plt.bar(np.arange(0, X.shape[1]), X.mean(axis = 0))\n",
    "plt.show()\n",
    "\n",
    "plt.subplot(212)\n",
    "plt.title('new std')\n",
    "plt.bar(np.arange(0, X.shape[1]), X.std(axis = 0))\n",
    "plt.show()"
   ]
  },
  {
   "cell_type": "markdown",
   "id": "cae0a43f",
   "metadata": {},
   "source": [
    "PCA"
   ]
  },
  {
   "cell_type": "code",
   "execution_count": 57,
   "id": "e0b1673a",
   "metadata": {},
   "outputs": [],
   "source": [
    "pca = decomposition.PCA(n_components = 2)\n",
    "pca.fit(X)\n",
    "X_2_features = pca.transform(X)"
   ]
  },
  {
   "cell_type": "code",
   "execution_count": 60,
   "id": "5ea0c026",
   "metadata": {},
   "outputs": [
    {
     "data": {
      "text/plain": [
       "(569, 2)"
      ]
     },
     "execution_count": 60,
     "metadata": {},
     "output_type": "execute_result"
    }
   ],
   "source": [
    "X_2_features.shape"
   ]
  },
  {
   "cell_type": "code",
   "execution_count": 66,
   "id": "c80da6ab",
   "metadata": {},
   "outputs": [
    {
     "data": {
      "image/png": "[encoded data removed]",
      "text/plain": [
       "<Figure size 432x288 with 1 Axes>"
      ]
     },
     "metadata": {
      "needs_background": "light"
     },
     "output_type": "display_data"
    }
   ],
   "source": [
    "plt.title('PCA Components')\n",
    "plt.scatter(X_2_features[:, 0], X_2_features[:, 1], c = np.where(y == 1, 'red', 'pink'))\n",
    "plt.xlabel('I Component')\n",
    "plt.ylabel('II Component')\n",
    "plt.show()"
   ]
  },
  {
   "cell_type": "code",
   "execution_count": 74,
   "id": "248ee6f9",
   "metadata": {},
   "outputs": [
    {
     "data": {
      "image/png": "[encoded data removed]",
      "text/plain": [
       "<Figure size 1152x144 with 2 Axes>"
      ]
     },
     "metadata": {
      "needs_background": "light"
     },
     "output_type": "display_data"
    }
   ],
   "source": [
    "plt.matshow(pca.components_)\n",
    "plt.xticks(np.arange(0, X.shape[1]), data.feature_names, rotation = 'vertical')\n",
    "plt.yticks(np.arange(0, 2), ['I component', 'II component'])\n",
    "plt.colorbar()\n",
    "plt.show()"
   ]
  },
  {
   "cell_type": "code",
   "execution_count": 79,
   "id": "ba6586bf",
   "metadata": {},
   "outputs": [
    {
     "data": {
      "text/plain": [
       "array([0.44272026, 0.18971182])"
      ]
     },
     "execution_count": 79,
     "metadata": {},
     "output_type": "execute_result"
    }
   ],
   "source": [
    "# explained variance by PCA components\n",
    "\n",
    "pca.explained_variance_ratio_"
   ]
  },
  {
   "cell_type": "code",
   "execution_count": 78,
   "id": "770ebb21",
   "metadata": {},
   "outputs": [
    {
     "data": {
      "text/plain": [
       "0.6324320765155942"
      ]
     },
     "execution_count": 78,
     "metadata": {},
     "output_type": "execute_result"
    }
   ],
   "source": [
    "# total explained variance\n",
    "\n",
    "np.sum(pca.explained_variance_ratio_)"
   ]
  },
  {
   "cell_type": "code",
   "execution_count": 83,
   "id": "2cb59046",
   "metadata": {},
   "outputs": [
    {
     "data": {
      "text/plain": [
       "array([-0.47233056,  0.1185921 , -0.30402866, -0.44323904,  1.95990572,\n",
       "        2.21410056,  1.69511034,  1.07132654,  1.96617156,  2.77787239,\n",
       "        0.32269446,  0.69000401,  0.45726611, -0.00601243,  1.4423413 ,\n",
       "        2.41116376,  2.08923774,  1.79024144,  1.44427371,  2.38945819,\n",
       "       -0.33312157,  0.21771573, -0.15598706, -0.34530478,  1.79420196,\n",
       "        2.01255366,  1.80019723,  1.19910638,  1.56514122,  2.50369415])"
      ]
     },
     "execution_count": 83,
     "metadata": {},
     "output_type": "execute_result"
    }
   ],
   "source": [
    "# inverse transform - old features values for instace (I = 5, II = 6.7)\n",
    "\n",
    "pca.inverse_transform([5, 6.7])"
   ]
  },
  {
   "cell_type": "code",
   "execution_count": 87,
   "id": "a565d16b",
   "metadata": {},
   "outputs": [],
   "source": [
    "# pca.get_covariance()"
   ]
  },
  {
   "cell_type": "code",
   "execution_count": 88,
   "id": "8f3f87bf",
   "metadata": {},
   "outputs": [
    {
     "data": {
      "text/plain": [
       "(569, 5)"
      ]
     },
     "execution_count": 88,
     "metadata": {},
     "output_type": "execute_result"
    }
   ],
   "source": [
    "# If we want to keep, for example at least 80% of information after dimension reduction,\n",
    "# we can pass the number between 0 and 1 as n_components parameter to PCA,\n",
    "# and it will determine the number of columns to keep itself\n",
    "\n",
    "pca_2 = decomposition.PCA(n_components = 0.8)\n",
    "pca_2.fit(X)\n",
    "X_80_percent = pca_2.transform(X)\n",
    "\n",
    "# new dimension\n",
    "\n",
    "X_80_percent.shape"
   ]
  },
  {
   "cell_type": "code",
   "execution_count": null,
   "id": "c4a4e866",
   "metadata": {},
   "outputs": [],
   "source": []
  }
 ],
 "metadata": {
  "kernelspec": {
   "display_name": "Python 3",
   "language": "python",
   "name": "python3"
  },
  "language_info": {
   "codemirror_mode": {
    "name": "ipython",
    "version": 3
   },
   "file_extension": ".py",
   "mimetype": "text/x-python",
   "name": "python",
   "nbconvert_exporter": "python",
   "pygments_lexer": "ipython3",
   "version": "3.9.5"
  }
 },
 "nbformat": 4,
 "nbformat_minor": 5
}
